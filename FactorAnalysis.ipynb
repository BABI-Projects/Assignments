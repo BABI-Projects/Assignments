{
 "cells": [
  {
   "cell_type": "markdown",
   "id": "945f7fd0",
   "metadata": {},
   "source": [
    "Factor analysis is used to find latent variables or factors among observed variables. In other words, if your data contains many variables, you can use factor analysis to reduce the number of variables. Factor analysis groups variables with similar characteristics together. With factor analysis, you can produce a small number of factors from a large number of variables which is capable of explaining the observed variance in the larger number of variables. \n",
    "\n",
    "There are three stages in factor analysis:\n",
    "\n",
    "1.\tFirst, a correlation matrix is generated for all the variables. A correlation matrix is a rectangular array of the correlation coefficients of the variables with each other.\n",
    "\n",
    "2.\tSecond, factors are extracted from the correlation matrix based on the correlation coefficients of the variables.\n",
    "\n",
    "3.\tThird, the factors are rotated in order to maximize the relationship between the variables and some of the factors.\n"
   ]
  },
  {
   "cell_type": "markdown",
   "id": "e84781f6",
   "metadata": {},
   "source": [
    "# Problem Statement: "
   ]
  },
  {
   "cell_type": "markdown",
   "id": "1b24cd79",
   "metadata": {},
   "source": [
    " For the purpose of this assignment, a subset of the data collected by Roberts and Lattin, reflecting the evaluations of the 12 most frequently cirted cereal brands in the sample (in the original study, a total of 40 different brands were evaluated by 121 respondents, but the majority of brands were rated by only a small number of consumers). The 25 attributes and 12 brands are listed below"
   ]
  },
  {
   "cell_type": "markdown",
   "id": "0401d62c",
   "metadata": {},
   "source": [
    "# \tDescriptive Statistics"
   ]
  },
  {
   "cell_type": "code",
   "execution_count": 56,
   "id": "7d130fb6",
   "metadata": {},
   "outputs": [
    {
     "data": {
      "text/html": [
       "<table>\n",
       "<thead><tr><th scope=col>Filling</th><th scope=col>Natural</th><th scope=col>Fibre</th><th scope=col>Sweet</th><th scope=col>Easy</th><th scope=col>Salt</th><th scope=col>Satisfying</th><th scope=col>Energy</th><th scope=col>Fun</th><th scope=col>Kids</th><th scope=col>...</th><th scope=col>Plain</th><th scope=col>Crisp</th><th scope=col>Regular</th><th scope=col>Sugar</th><th scope=col>Fruit</th><th scope=col>Process</th><th scope=col>Quality</th><th scope=col>Treat</th><th scope=col>Boring</th><th scope=col>Nutritious</th></tr></thead>\n",
       "<tbody>\n",
       "\t<tr><td>5  </td><td>5  </td><td>5  </td><td>1  </td><td>2  </td><td>1  </td><td>5  </td><td>4  </td><td>1  </td><td>4  </td><td>...</td><td>3  </td><td>1  </td><td>4  </td><td>1  </td><td>1  </td><td>3  </td><td>5  </td><td>1  </td><td>1  </td><td>5  </td></tr>\n",
       "\t<tr><td>1  </td><td>2  </td><td>2  </td><td>1  </td><td>5  </td><td>2  </td><td>5  </td><td>1  </td><td>1  </td><td>5  </td><td>...</td><td>5  </td><td>5  </td><td>1  </td><td>2  </td><td>1  </td><td>5  </td><td>2  </td><td>1  </td><td>1  </td><td>3  </td></tr>\n",
       "\t<tr><td>5  </td><td>4  </td><td>5  </td><td>5  </td><td>5  </td><td>3  </td><td>5  </td><td>5  </td><td>5  </td><td>5  </td><td>...</td><td>1  </td><td>5  </td><td>4  </td><td>3  </td><td>1  </td><td>2  </td><td>5  </td><td>4  </td><td>1  </td><td>5  </td></tr>\n",
       "\t<tr><td>5  </td><td>5  </td><td>5  </td><td>3  </td><td>5  </td><td>2  </td><td>5  </td><td>5  </td><td>5  </td><td>5  </td><td>...</td><td>1  </td><td>1  </td><td>4  </td><td>2  </td><td>5  </td><td>2  </td><td>5  </td><td>5  </td><td>1  </td><td>5  </td></tr>\n",
       "\t<tr><td>4  </td><td>5  </td><td>3  </td><td>2  </td><td>5  </td><td>2  </td><td>5  </td><td>4  </td><td>5  </td><td>5  </td><td>...</td><td>1  </td><td>5  </td><td>3  </td><td>1  </td><td>1  </td><td>3  </td><td>5  </td><td>5  </td><td>1  </td><td>4  </td></tr>\n",
       "\t<tr><td>4  </td><td>4  </td><td>4  </td><td>2  </td><td>5  </td><td>2  </td><td>5  </td><td>4  </td><td>5  </td><td>5  </td><td>...</td><td>1  </td><td>5  </td><td>3  </td><td>2  </td><td>1  </td><td>3  </td><td>5  </td><td>5  </td><td>1  </td><td>4  </td></tr>\n",
       "</tbody>\n",
       "</table>\n"
      ],
      "text/latex": [
       "\\begin{tabular}{r|lllllllllllllllllllllllll}\n",
       " Filling & Natural & Fibre & Sweet & Easy & Salt & Satisfying & Energy & Fun & Kids & ... & Plain & Crisp & Regular & Sugar & Fruit & Process & Quality & Treat & Boring & Nutritious\\\\\n",
       "\\hline\n",
       "\t 5   & 5   & 5   & 1   & 2   & 1   & 5   & 4   & 1   & 4   & ... & 3   & 1   & 4   & 1   & 1   & 3   & 5   & 1   & 1   & 5  \\\\\n",
       "\t 1   & 2   & 2   & 1   & 5   & 2   & 5   & 1   & 1   & 5   & ... & 5   & 5   & 1   & 2   & 1   & 5   & 2   & 1   & 1   & 3  \\\\\n",
       "\t 5   & 4   & 5   & 5   & 5   & 3   & 5   & 5   & 5   & 5   & ... & 1   & 5   & 4   & 3   & 1   & 2   & 5   & 4   & 1   & 5  \\\\\n",
       "\t 5   & 5   & 5   & 3   & 5   & 2   & 5   & 5   & 5   & 5   & ... & 1   & 1   & 4   & 2   & 5   & 2   & 5   & 5   & 1   & 5  \\\\\n",
       "\t 4   & 5   & 3   & 2   & 5   & 2   & 5   & 4   & 5   & 5   & ... & 1   & 5   & 3   & 1   & 1   & 3   & 5   & 5   & 1   & 4  \\\\\n",
       "\t 4   & 4   & 4   & 2   & 5   & 2   & 5   & 4   & 5   & 5   & ... & 1   & 5   & 3   & 2   & 1   & 3   & 5   & 5   & 1   & 4  \\\\\n",
       "\\end{tabular}\n"
      ],
      "text/markdown": [
       "\n",
       "| Filling | Natural | Fibre | Sweet | Easy | Salt | Satisfying | Energy | Fun | Kids | ... | Plain | Crisp | Regular | Sugar | Fruit | Process | Quality | Treat | Boring | Nutritious |\n",
       "|---|---|---|---|---|---|---|---|---|---|---|---|---|---|---|---|---|---|---|---|---|\n",
       "| 5   | 5   | 5   | 1   | 2   | 1   | 5   | 4   | 1   | 4   | ... | 3   | 1   | 4   | 1   | 1   | 3   | 5   | 1   | 1   | 5   |\n",
       "| 1   | 2   | 2   | 1   | 5   | 2   | 5   | 1   | 1   | 5   | ... | 5   | 5   | 1   | 2   | 1   | 5   | 2   | 1   | 1   | 3   |\n",
       "| 5   | 4   | 5   | 5   | 5   | 3   | 5   | 5   | 5   | 5   | ... | 1   | 5   | 4   | 3   | 1   | 2   | 5   | 4   | 1   | 5   |\n",
       "| 5   | 5   | 5   | 3   | 5   | 2   | 5   | 5   | 5   | 5   | ... | 1   | 1   | 4   | 2   | 5   | 2   | 5   | 5   | 1   | 5   |\n",
       "| 4   | 5   | 3   | 2   | 5   | 2   | 5   | 4   | 5   | 5   | ... | 1   | 5   | 3   | 1   | 1   | 3   | 5   | 5   | 1   | 4   |\n",
       "| 4   | 4   | 4   | 2   | 5   | 2   | 5   | 4   | 5   | 5   | ... | 1   | 5   | 3   | 2   | 1   | 3   | 5   | 5   | 1   | 4   |\n",
       "\n"
      ],
      "text/plain": [
       "  Filling Natural Fibre Sweet Easy Salt Satisfying Energy Fun Kids ... Plain\n",
       "1 5       5       5     1     2    1    5          4      1   4    ... 3    \n",
       "2 1       2       2     1     5    2    5          1      1   5    ... 5    \n",
       "3 5       4       5     5     5    3    5          5      5   5    ... 1    \n",
       "4 5       5       5     3     5    2    5          5      5   5    ... 1    \n",
       "5 4       5       3     2     5    2    5          4      5   5    ... 1    \n",
       "6 4       4       4     2     5    2    5          4      5   5    ... 1    \n",
       "  Crisp Regular Sugar Fruit Process Quality Treat Boring Nutritious\n",
       "1 1     4       1     1     3       5       1     1      5         \n",
       "2 5     1       2     1     5       2       1     1      3         \n",
       "3 5     4       3     1     2       5       4     1      5         \n",
       "4 1     4       2     5     2       5       5     1      5         \n",
       "5 5     3       1     1     3       5       5     1      4         \n",
       "6 5     3       2     1     3       5       5     1      4         "
      ]
     },
     "metadata": {},
     "output_type": "display_data"
    }
   ],
   "source": [
    "cereal1<-read.csv(\"data/cereal.csv\", header = TRUE)\n",
    "cereal<-cereal1[2:26]\n",
    "head(cereal)\n"
   ]
  },
  {
   "cell_type": "markdown",
   "id": "c6bf3b90",
   "metadata": {},
   "source": [
    "# Exploratory Data Analysis\n"
   ]
  },
  {
   "cell_type": "code",
   "execution_count": 2,
   "id": "6a122bb0",
   "metadata": {},
   "outputs": [
    {
     "data": {
      "text/plain": [
       "    Filling         Natural          Fibre           Sweet      \n",
       " Min.   :1.000   Min.   :1.000   Min.   :1.000   Min.   :1.000  \n",
       " 1st Qu.:3.000   1st Qu.:3.000   1st Qu.:3.000   1st Qu.:2.000  \n",
       " Median :4.000   Median :4.000   Median :4.000   Median :2.000  \n",
       " Mean   :3.881   Mean   :3.783   Mean   :3.528   Mean   :2.506  \n",
       " 3rd Qu.:4.500   3rd Qu.:4.000   3rd Qu.:4.000   3rd Qu.:3.000  \n",
       " Max.   :5.000   Max.   :5.000   Max.   :5.000   Max.   :5.000  \n",
       "      Easy            Salt         Satisfying        Energy     \n",
       " Min.   :1.000   Min.   :1.000   Min.   :2.000   Min.   :1.000  \n",
       " 1st Qu.:4.000   1st Qu.:1.000   1st Qu.:3.000   1st Qu.:3.000  \n",
       " Median :5.000   Median :2.000   Median :4.000   Median :4.000  \n",
       " Mean   :4.532   Mean   :1.991   Mean   :4.004   Mean   :3.643  \n",
       " 3rd Qu.:5.000   3rd Qu.:3.000   3rd Qu.:5.000   3rd Qu.:4.000  \n",
       " Max.   :6.000   Max.   :4.000   Max.   :6.000   Max.   :5.000  \n",
       "      Fun             Kids           Soggy         Economical   \n",
       " Min.   :1.000   Min.   :1.000   Min.   :1.000   Min.   :1.000  \n",
       " 1st Qu.:2.000   1st Qu.:3.000   1st Qu.:1.000   1st Qu.:3.000  \n",
       " Median :2.000   Median :4.000   Median :2.000   Median :3.000  \n",
       " Mean   :2.617   Mean   :3.843   Mean   :2.255   Mean   :3.217  \n",
       " 3rd Qu.:3.000   3rd Qu.:5.000   3rd Qu.:3.000   3rd Qu.:4.000  \n",
       " Max.   :5.000   Max.   :6.000   Max.   :5.000   Max.   :5.000  \n",
       "     Health          Family         Calories         Plain      \n",
       " Min.   :1.000   Min.   :1.000   Min.   :1.000   Min.   :1.000  \n",
       " 1st Qu.:3.000   1st Qu.:3.000   1st Qu.:2.000   1st Qu.:1.000  \n",
       " Median :4.000   Median :4.000   Median :3.000   Median :2.000  \n",
       " Mean   :3.809   Mean   :3.877   Mean   :2.702   Mean   :2.268  \n",
       " 3rd Qu.:4.000   3rd Qu.:5.000   3rd Qu.:3.000   3rd Qu.:3.000  \n",
       " Max.   :5.000   Max.   :6.000   Max.   :5.000   Max.   :5.000  \n",
       "     Crisp          Regular          Sugar           Fruit      \n",
       " Min.   :1.000   Min.   :1.000   Min.   :1.000   Min.   :1.000  \n",
       " 1st Qu.:2.000   1st Qu.:2.000   1st Qu.:1.000   1st Qu.:1.000  \n",
       " Median :3.000   Median :3.000   Median :2.000   Median :1.000  \n",
       " Mean   :3.204   Mean   :3.072   Mean   :2.145   Mean   :1.694  \n",
       " 3rd Qu.:4.000   3rd Qu.:4.000   3rd Qu.:3.000   3rd Qu.:3.000  \n",
       " Max.   :6.000   Max.   :5.000   Max.   :5.000   Max.   :5.000  \n",
       "    Process         Quality          Treat          Boring       Nutritious   \n",
       " Min.   :1.000   Min.   :1.000   Min.   :1.00   Min.   :1.00   Min.   :1.000  \n",
       " 1st Qu.:2.000   1st Qu.:3.000   1st Qu.:2.00   1st Qu.:1.00   1st Qu.:3.000  \n",
       " Median :3.000   Median :4.000   Median :3.00   Median :2.00   Median :4.000  \n",
       " Mean   :2.936   Mean   :3.694   Mean   :2.63   Mean   :1.83   Mean   :3.664  \n",
       " 3rd Qu.:4.000   3rd Qu.:4.000   3rd Qu.:3.00   3rd Qu.:2.00   3rd Qu.:4.000  \n",
       " Max.   :6.000   Max.   :5.000   Max.   :6.00   Max.   :5.00   Max.   :5.000  "
      ]
     },
     "metadata": {},
     "output_type": "display_data"
    }
   ],
   "source": [
    "summary(cereal)"
   ]
  },
  {
   "cell_type": "markdown",
   "id": "d7a3481b",
   "metadata": {},
   "source": [
    "The first output from the analysis is a table of descriptive statistics for all the variables under investigation. Typically, the mean, standard deviation and number of respondents (N) who participated in the study are given. It is important to check N, missing data, or any variable going beyond expected values. Looking at the maximum, the variable having max 6 have to be replaced by 5 as the likert scale used is a 5 point."
   ]
  },
  {
   "cell_type": "code",
   "execution_count": 25,
   "id": "e6e2611e",
   "metadata": {},
   "outputs": [
    {
     "name": "stdout",
     "output_type": "stream",
     "text": [
      "'data.frame':\t235 obs. of  25 variables:\n",
      " $ Filling   : int  5 1 5 5 4 4 4 4 4 4 ...\n",
      " $ Natural   : int  5 2 4 5 5 4 4 3 3 3 ...\n",
      " $ Fibre     : int  5 2 5 5 3 4 3 3 3 3 ...\n",
      " $ Sweet     : int  1 1 5 3 2 2 2 2 2 2 ...\n",
      " $ Easy      : num  2 5 5 5 5 5 5 5 5 5 ...\n",
      " $ Salt      : int  1 2 3 2 2 2 1 1 1 1 ...\n",
      " $ Satisfying: num  5 5 5 5 5 5 5 5 5 5 ...\n",
      " $ Energy    : int  4 1 5 5 4 4 5 4 4 4 ...\n",
      " $ Fun       : int  1 1 5 5 5 5 5 4 4 4 ...\n",
      " $ Kids      : num  4 5 5 5 5 5 5 5 5 5 ...\n",
      " $ Soggy     : int  5 3 3 3 1 1 1 1 1 1 ...\n",
      " $ Economical: int  5 5 3 3 5 5 5 3 3 3 ...\n",
      " $ Health    : int  5 2 5 5 5 4 5 4 4 4 ...\n",
      " $ Family    : num  5 5 5 5 3 5 5 5 5 5 ...\n",
      " $ Calories  : int  1 1 1 1 3 3 3 2 2 2 ...\n",
      " $ Plain     : int  3 5 1 1 1 1 1 3 3 3 ...\n",
      " $ Crisp     : num  1 5 5 1 5 5 5 4 4 4 ...\n",
      " $ Regular   : int  4 1 4 4 3 3 3 4 4 4 ...\n",
      " $ Sugar     : int  1 2 3 2 1 2 2 1 1 1 ...\n",
      " $ Fruit     : int  1 1 1 5 1 1 1 1 1 1 ...\n",
      " $ Process   : num  3 5 2 2 3 3 3 2 2 2 ...\n",
      " $ Quality   : int  5 2 5 5 5 5 5 4 4 4 ...\n",
      " $ Treat     : num  1 1 4 5 5 5 5 2 2 2 ...\n",
      " $ Boring    : int  1 1 1 1 1 1 1 1 1 1 ...\n",
      " $ Nutritious: int  5 3 5 5 4 4 4 3 3 3 ...\n"
     ]
    }
   ],
   "source": [
    "str(cereal)\n"
   ]
  },
  {
   "cell_type": "markdown",
   "id": "7e005525",
   "metadata": {},
   "source": [
    "# \tThe Correlation matrix"
   ]
  },
  {
   "cell_type": "code",
   "execution_count": 6,
   "id": "3ef22735",
   "metadata": {},
   "outputs": [],
   "source": [
    "cereal[cereal==6] <- 5"
   ]
  },
  {
   "cell_type": "code",
   "execution_count": 33,
   "id": "50eb667c",
   "metadata": {},
   "outputs": [
    {
     "data": {
      "text/html": [
       "<table>\n",
       "<thead><tr><th></th><th scope=col>Filling</th><th scope=col>Natural</th><th scope=col>Fibre</th><th scope=col>Sweet</th><th scope=col>Easy</th><th scope=col>Salt</th><th scope=col>Satisfying</th><th scope=col>Energy</th><th scope=col>Fun</th><th scope=col>Kids</th><th scope=col>...</th><th scope=col>Plain</th><th scope=col>Crisp</th><th scope=col>Regular</th><th scope=col>Sugar</th><th scope=col>Fruit</th><th scope=col>Process</th><th scope=col>Quality</th><th scope=col>Treat</th><th scope=col>Boring</th><th scope=col>Nutritious</th></tr></thead>\n",
       "<tbody>\n",
       "\t<tr><th scope=row>Filling</th><td> 1.00</td><td> 0.54</td><td> 0.55</td><td> 0.19</td><td> 0.24</td><td>-0.04</td><td> 0.65</td><td> 0.64</td><td> 0.27</td><td> 0.16</td><td>...  </td><td>-0.25</td><td> 0.13</td><td> 0.42</td><td>-0.08</td><td> 0.26</td><td>-0.23</td><td> 0.44</td><td> 0.34</td><td>-0.18</td><td> 0.53</td></tr>\n",
       "\t<tr><th scope=row>Natural</th><td> 0.54</td><td> 1.00</td><td> 0.65</td><td>-0.09</td><td> 0.23</td><td>-0.22</td><td> 0.47</td><td> 0.49</td><td> 0.08</td><td> 0.06</td><td>...  </td><td>-0.14</td><td> 0.02</td><td> 0.42</td><td>-0.32</td><td> 0.30</td><td>-0.31</td><td> 0.58</td><td> 0.17</td><td>-0.22</td><td> 0.65</td></tr>\n",
       "\t<tr><th scope=row>Fibre</th><td> 0.55</td><td> 0.65</td><td> 1.00</td><td>-0.04</td><td> 0.18</td><td>-0.17</td><td> 0.41</td><td> 0.50</td><td> 0.06</td><td>-0.09</td><td>...  </td><td>-0.12</td><td> 0.05</td><td> 0.65</td><td>-0.23</td><td> 0.29</td><td>-0.19</td><td> 0.51</td><td> 0.14</td><td>-0.10</td><td> 0.71</td></tr>\n",
       "\t<tr><th scope=row>Sweet</th><td> 0.19</td><td>-0.09</td><td>-0.04</td><td> 1.00</td><td> 0.12</td><td> 0.44</td><td> 0.18</td><td> 0.18</td><td> 0.33</td><td> 0.12</td><td>...  </td><td>-0.29</td><td> 0.26</td><td>-0.03</td><td> 0.65</td><td> 0.35</td><td> 0.11</td><td>-0.08</td><td> 0.37</td><td>-0.20</td><td>-0.05</td></tr>\n",
       "\t<tr><th scope=row>Easy</th><td> 0.24</td><td> 0.23</td><td> 0.18</td><td> 0.12</td><td> 1.00</td><td> 0.01</td><td> 0.35</td><td> 0.18</td><td> 0.24</td><td> 0.24</td><td>...  </td><td> 0.02</td><td> 0.24</td><td> 0.11</td><td>-0.02</td><td> 0.04</td><td>-0.07</td><td> 0.16</td><td> 0.18</td><td>-0.17</td><td> 0.20</td></tr>\n",
       "\t<tr><th scope=row>Salt</th><td>-0.04</td><td>-0.22</td><td>-0.17</td><td> 0.44</td><td> 0.01</td><td> 1.00</td><td>-0.01</td><td>-0.07</td><td> 0.03</td><td> 0.02</td><td>...  </td><td> 0.02</td><td> 0.10</td><td>-0.16</td><td> 0.59</td><td> 0.03</td><td> 0.30</td><td>-0.22</td><td> 0.12</td><td> 0.11</td><td>-0.16</td></tr>\n",
       "\t<tr><th scope=row>Satisfying</th><td> 0.65</td><td> 0.47</td><td> 0.41</td><td> 0.18</td><td> 0.35</td><td>-0.01</td><td> 1.00</td><td> 0.60</td><td> 0.35</td><td> 0.30</td><td>...  </td><td>-0.18</td><td> 0.26</td><td> 0.33</td><td>-0.09</td><td> 0.25</td><td>-0.19</td><td> 0.47</td><td> 0.37</td><td>-0.32</td><td> 0.50</td></tr>\n",
       "\t<tr><th scope=row>Energy</th><td> 0.64</td><td> 0.49</td><td> 0.50</td><td> 0.18</td><td> 0.18</td><td>-0.07</td><td> 0.60</td><td> 1.00</td><td> 0.35</td><td> 0.13</td><td>...  </td><td>-0.26</td><td> 0.25</td><td> 0.39</td><td>-0.09</td><td> 0.27</td><td>-0.10</td><td> 0.46</td><td> 0.32</td><td>-0.22</td><td> 0.54</td></tr>\n",
       "\t<tr><th scope=row>Fun</th><td> 0.27</td><td> 0.08</td><td> 0.06</td><td> 0.33</td><td> 0.24</td><td> 0.03</td><td> 0.35</td><td> 0.35</td><td> 1.00</td><td> 0.34</td><td>...  </td><td>-0.32</td><td> 0.40</td><td> 0.14</td><td> 0.17</td><td> 0.25</td><td>-0.01</td><td> 0.22</td><td> 0.58</td><td>-0.30</td><td> 0.16</td></tr>\n",
       "\t<tr><th scope=row>Kids</th><td> 0.16</td><td> 0.06</td><td>-0.09</td><td> 0.12</td><td> 0.24</td><td> 0.02</td><td> 0.30</td><td> 0.13</td><td> 0.34</td><td> 1.00</td><td>...  </td><td> 0.03</td><td> 0.29</td><td>-0.03</td><td>-0.02</td><td>-0.23</td><td> 0.01</td><td> 0.11</td><td> 0.28</td><td>-0.20</td><td> 0.03</td></tr>\n",
       "\t<tr><th scope=row>Soggy</th><td>-0.06</td><td> 0.07</td><td>-0.04</td><td>-0.08</td><td>-0.01</td><td> 0.02</td><td>-0.01</td><td>-0.05</td><td>-0.10</td><td> 0.09</td><td>...  </td><td> 0.35</td><td>-0.34</td><td>-0.14</td><td>-0.09</td><td>-0.14</td><td> 0.06</td><td>-0.03</td><td>-0.26</td><td> 0.23</td><td> 0.03</td></tr>\n",
       "\t<tr><th scope=row>Economical</th><td> 0.05</td><td> 0.10</td><td>-0.03</td><td>-0.24</td><td> 0.09</td><td>-0.13</td><td> 0.21</td><td> 0.03</td><td> 0.04</td><td> 0.30</td><td>...  </td><td> 0.23</td><td> 0.09</td><td> 0.08</td><td>-0.29</td><td>-0.34</td><td>-0.13</td><td> 0.22</td><td>-0.04</td><td>-0.02</td><td> 0.13</td></tr>\n",
       "\t<tr><th scope=row>Health</th><td> 0.55</td><td> 0.69</td><td> 0.68</td><td>-0.12</td><td> 0.20</td><td>-0.23</td><td> 0.52</td><td> 0.52</td><td> 0.10</td><td>-0.01</td><td>...  </td><td>-0.10</td><td> 0.08</td><td> 0.54</td><td>-0.38</td><td> 0.27</td><td>-0.29</td><td> 0.69</td><td> 0.22</td><td>-0.23</td><td> 0.76</td></tr>\n",
       "\t<tr><th scope=row>Family</th><td> 0.23</td><td> 0.11</td><td>-0.01</td><td> 0.04</td><td> 0.23</td><td>-0.09</td><td> 0.35</td><td> 0.19</td><td> 0.35</td><td> 0.72</td><td>...  </td><td>-0.03</td><td> 0.28</td><td> 0.04</td><td>-0.06</td><td>-0.13</td><td>-0.03</td><td> 0.24</td><td> 0.29</td><td>-0.25</td><td> 0.09</td></tr>\n",
       "\t<tr><th scope=row>Calories</th><td> 0.05</td><td>-0.16</td><td>-0.19</td><td> 0.47</td><td>-0.02</td><td> 0.44</td><td> 0.01</td><td> 0.03</td><td> 0.11</td><td> 0.01</td><td>...  </td><td>-0.08</td><td> 0.14</td><td>-0.16</td><td> 0.53</td><td> 0.13</td><td> 0.27</td><td>-0.20</td><td> 0.19</td><td>-0.03</td><td>-0.23</td></tr>\n",
       "\t<tr><th scope=row>Plain</th><td>-0.25</td><td>-0.14</td><td>-0.12</td><td>-0.29</td><td> 0.02</td><td> 0.02</td><td>-0.18</td><td>-0.26</td><td>-0.32</td><td> 0.03</td><td>...  </td><td> 1.00</td><td>-0.21</td><td>-0.08</td><td>-0.15</td><td>-0.34</td><td> 0.12</td><td>-0.23</td><td>-0.43</td><td> 0.33</td><td>-0.14</td></tr>\n",
       "\t<tr><th scope=row>Crisp</th><td> 0.13</td><td> 0.02</td><td> 0.05</td><td> 0.26</td><td> 0.24</td><td> 0.10</td><td> 0.26</td><td> 0.25</td><td> 0.40</td><td> 0.29</td><td>...  </td><td>-0.21</td><td> 1.00</td><td> 0.13</td><td> 0.16</td><td> 0.09</td><td> 0.01</td><td> 0.13</td><td> 0.46</td><td>-0.33</td><td> 0.10</td></tr>\n",
       "\t<tr><th scope=row>Regular</th><td> 0.42</td><td> 0.42</td><td> 0.65</td><td>-0.03</td><td> 0.11</td><td>-0.16</td><td> 0.33</td><td> 0.39</td><td> 0.14</td><td>-0.03</td><td>...  </td><td>-0.08</td><td> 0.13</td><td> 1.00</td><td>-0.09</td><td> 0.25</td><td>-0.15</td><td> 0.44</td><td> 0.17</td><td>-0.09</td><td> 0.57</td></tr>\n",
       "\t<tr><th scope=row>Sugar</th><td>-0.08</td><td>-0.32</td><td>-0.23</td><td> 0.65</td><td>-0.02</td><td> 0.59</td><td>-0.09</td><td>-0.09</td><td> 0.17</td><td>-0.02</td><td>...  </td><td>-0.15</td><td> 0.16</td><td>-0.09</td><td> 1.00</td><td> 0.15</td><td> 0.37</td><td>-0.26</td><td> 0.21</td><td> 0.00</td><td>-0.27</td></tr>\n",
       "\t<tr><th scope=row>Fruit</th><td> 0.26</td><td> 0.30</td><td> 0.29</td><td> 0.35</td><td> 0.04</td><td> 0.03</td><td> 0.25</td><td> 0.27</td><td> 0.25</td><td>-0.23</td><td>...  </td><td>-0.34</td><td> 0.09</td><td> 0.25</td><td> 0.15</td><td> 1.00</td><td>-0.14</td><td> 0.16</td><td> 0.31</td><td>-0.26</td><td> 0.31</td></tr>\n",
       "\t<tr><th scope=row>Process</th><td>-0.23</td><td>-0.31</td><td>-0.19</td><td> 0.11</td><td>-0.07</td><td> 0.30</td><td>-0.19</td><td>-0.10</td><td>-0.01</td><td> 0.01</td><td>...  </td><td> 0.12</td><td> 0.01</td><td>-0.15</td><td> 0.37</td><td>-0.14</td><td> 1.00</td><td>-0.19</td><td> 0.02</td><td> 0.17</td><td>-0.29</td></tr>\n",
       "\t<tr><th scope=row>Quality</th><td> 0.44</td><td> 0.58</td><td> 0.51</td><td>-0.08</td><td> 0.16</td><td>-0.22</td><td> 0.47</td><td> 0.46</td><td> 0.22</td><td> 0.11</td><td>...  </td><td>-0.23</td><td> 0.13</td><td> 0.44</td><td>-0.26</td><td> 0.16</td><td>-0.19</td><td> 1.00</td><td> 0.33</td><td>-0.28</td><td> 0.66</td></tr>\n",
       "\t<tr><th scope=row>Treat</th><td> 0.34</td><td> 0.17</td><td> 0.14</td><td> 0.37</td><td> 0.18</td><td> 0.12</td><td> 0.37</td><td> 0.32</td><td> 0.58</td><td> 0.28</td><td>...  </td><td>-0.43</td><td> 0.46</td><td> 0.17</td><td> 0.21</td><td> 0.31</td><td> 0.02</td><td> 0.33</td><td> 1.00</td><td>-0.36</td><td> 0.25</td></tr>\n",
       "\t<tr><th scope=row>Boring</th><td>-0.18</td><td>-0.22</td><td>-0.10</td><td>-0.20</td><td>-0.17</td><td> 0.11</td><td>-0.32</td><td>-0.22</td><td>-0.30</td><td>-0.20</td><td>...  </td><td> 0.33</td><td>-0.33</td><td>-0.09</td><td> 0.00</td><td>-0.26</td><td> 0.17</td><td>-0.28</td><td>-0.36</td><td> 1.00</td><td>-0.17</td></tr>\n",
       "\t<tr><th scope=row>Nutritious</th><td> 0.53</td><td> 0.65</td><td> 0.71</td><td>-0.05</td><td> 0.20</td><td>-0.16</td><td> 0.50</td><td> 0.54</td><td> 0.16</td><td> 0.03</td><td>...  </td><td>-0.14</td><td> 0.10</td><td> 0.57</td><td>-0.27</td><td> 0.31</td><td>-0.29</td><td> 0.66</td><td> 0.25</td><td>-0.17</td><td> 1.00</td></tr>\n",
       "</tbody>\n",
       "</table>\n"
      ],
      "text/latex": [
       "\\begin{tabular}{r|lllllllllllllllllllllllll}\n",
       "  & Filling & Natural & Fibre & Sweet & Easy & Salt & Satisfying & Energy & Fun & Kids & ... & Plain & Crisp & Regular & Sugar & Fruit & Process & Quality & Treat & Boring & Nutritious\\\\\n",
       "\\hline\n",
       "\tFilling &  1.00 &  0.54 &  0.55 &  0.19 &  0.24 & -0.04 &  0.65 &  0.64 &  0.27 &  0.16 & ...   & -0.25 &  0.13 &  0.42 & -0.08 &  0.26 & -0.23 &  0.44 &  0.34 & -0.18 &  0.53\\\\\n",
       "\tNatural &  0.54 &  1.00 &  0.65 & -0.09 &  0.23 & -0.22 &  0.47 &  0.49 &  0.08 &  0.06 & ...   & -0.14 &  0.02 &  0.42 & -0.32 &  0.30 & -0.31 &  0.58 &  0.17 & -0.22 &  0.65\\\\\n",
       "\tFibre &  0.55 &  0.65 &  1.00 & -0.04 &  0.18 & -0.17 &  0.41 &  0.50 &  0.06 & -0.09 & ...   & -0.12 &  0.05 &  0.65 & -0.23 &  0.29 & -0.19 &  0.51 &  0.14 & -0.10 &  0.71\\\\\n",
       "\tSweet &  0.19 & -0.09 & -0.04 &  1.00 &  0.12 &  0.44 &  0.18 &  0.18 &  0.33 &  0.12 & ...   & -0.29 &  0.26 & -0.03 &  0.65 &  0.35 &  0.11 & -0.08 &  0.37 & -0.20 & -0.05\\\\\n",
       "\tEasy &  0.24 &  0.23 &  0.18 &  0.12 &  1.00 &  0.01 &  0.35 &  0.18 &  0.24 &  0.24 & ...   &  0.02 &  0.24 &  0.11 & -0.02 &  0.04 & -0.07 &  0.16 &  0.18 & -0.17 &  0.20\\\\\n",
       "\tSalt & -0.04 & -0.22 & -0.17 &  0.44 &  0.01 &  1.00 & -0.01 & -0.07 &  0.03 &  0.02 & ...   &  0.02 &  0.10 & -0.16 &  0.59 &  0.03 &  0.30 & -0.22 &  0.12 &  0.11 & -0.16\\\\\n",
       "\tSatisfying &  0.65 &  0.47 &  0.41 &  0.18 &  0.35 & -0.01 &  1.00 &  0.60 &  0.35 &  0.30 & ...   & -0.18 &  0.26 &  0.33 & -0.09 &  0.25 & -0.19 &  0.47 &  0.37 & -0.32 &  0.50\\\\\n",
       "\tEnergy &  0.64 &  0.49 &  0.50 &  0.18 &  0.18 & -0.07 &  0.60 &  1.00 &  0.35 &  0.13 & ...   & -0.26 &  0.25 &  0.39 & -0.09 &  0.27 & -0.10 &  0.46 &  0.32 & -0.22 &  0.54\\\\\n",
       "\tFun &  0.27 &  0.08 &  0.06 &  0.33 &  0.24 &  0.03 &  0.35 &  0.35 &  1.00 &  0.34 & ...   & -0.32 &  0.40 &  0.14 &  0.17 &  0.25 & -0.01 &  0.22 &  0.58 & -0.30 &  0.16\\\\\n",
       "\tKids &  0.16 &  0.06 & -0.09 &  0.12 &  0.24 &  0.02 &  0.30 &  0.13 &  0.34 &  1.00 & ...   &  0.03 &  0.29 & -0.03 & -0.02 & -0.23 &  0.01 &  0.11 &  0.28 & -0.20 &  0.03\\\\\n",
       "\tSoggy & -0.06 &  0.07 & -0.04 & -0.08 & -0.01 &  0.02 & -0.01 & -0.05 & -0.10 &  0.09 & ...   &  0.35 & -0.34 & -0.14 & -0.09 & -0.14 &  0.06 & -0.03 & -0.26 &  0.23 &  0.03\\\\\n",
       "\tEconomical &  0.05 &  0.10 & -0.03 & -0.24 &  0.09 & -0.13 &  0.21 &  0.03 &  0.04 &  0.30 & ...   &  0.23 &  0.09 &  0.08 & -0.29 & -0.34 & -0.13 &  0.22 & -0.04 & -0.02 &  0.13\\\\\n",
       "\tHealth &  0.55 &  0.69 &  0.68 & -0.12 &  0.20 & -0.23 &  0.52 &  0.52 &  0.10 & -0.01 & ...   & -0.10 &  0.08 &  0.54 & -0.38 &  0.27 & -0.29 &  0.69 &  0.22 & -0.23 &  0.76\\\\\n",
       "\tFamily &  0.23 &  0.11 & -0.01 &  0.04 &  0.23 & -0.09 &  0.35 &  0.19 &  0.35 &  0.72 & ...   & -0.03 &  0.28 &  0.04 & -0.06 & -0.13 & -0.03 &  0.24 &  0.29 & -0.25 &  0.09\\\\\n",
       "\tCalories &  0.05 & -0.16 & -0.19 &  0.47 & -0.02 &  0.44 &  0.01 &  0.03 &  0.11 &  0.01 & ...   & -0.08 &  0.14 & -0.16 &  0.53 &  0.13 &  0.27 & -0.20 &  0.19 & -0.03 & -0.23\\\\\n",
       "\tPlain & -0.25 & -0.14 & -0.12 & -0.29 &  0.02 &  0.02 & -0.18 & -0.26 & -0.32 &  0.03 & ...   &  1.00 & -0.21 & -0.08 & -0.15 & -0.34 &  0.12 & -0.23 & -0.43 &  0.33 & -0.14\\\\\n",
       "\tCrisp &  0.13 &  0.02 &  0.05 &  0.26 &  0.24 &  0.10 &  0.26 &  0.25 &  0.40 &  0.29 & ...   & -0.21 &  1.00 &  0.13 &  0.16 &  0.09 &  0.01 &  0.13 &  0.46 & -0.33 &  0.10\\\\\n",
       "\tRegular &  0.42 &  0.42 &  0.65 & -0.03 &  0.11 & -0.16 &  0.33 &  0.39 &  0.14 & -0.03 & ...   & -0.08 &  0.13 &  1.00 & -0.09 &  0.25 & -0.15 &  0.44 &  0.17 & -0.09 &  0.57\\\\\n",
       "\tSugar & -0.08 & -0.32 & -0.23 &  0.65 & -0.02 &  0.59 & -0.09 & -0.09 &  0.17 & -0.02 & ...   & -0.15 &  0.16 & -0.09 &  1.00 &  0.15 &  0.37 & -0.26 &  0.21 &  0.00 & -0.27\\\\\n",
       "\tFruit &  0.26 &  0.30 &  0.29 &  0.35 &  0.04 &  0.03 &  0.25 &  0.27 &  0.25 & -0.23 & ...   & -0.34 &  0.09 &  0.25 &  0.15 &  1.00 & -0.14 &  0.16 &  0.31 & -0.26 &  0.31\\\\\n",
       "\tProcess & -0.23 & -0.31 & -0.19 &  0.11 & -0.07 &  0.30 & -0.19 & -0.10 & -0.01 &  0.01 & ...   &  0.12 &  0.01 & -0.15 &  0.37 & -0.14 &  1.00 & -0.19 &  0.02 &  0.17 & -0.29\\\\\n",
       "\tQuality &  0.44 &  0.58 &  0.51 & -0.08 &  0.16 & -0.22 &  0.47 &  0.46 &  0.22 &  0.11 & ...   & -0.23 &  0.13 &  0.44 & -0.26 &  0.16 & -0.19 &  1.00 &  0.33 & -0.28 &  0.66\\\\\n",
       "\tTreat &  0.34 &  0.17 &  0.14 &  0.37 &  0.18 &  0.12 &  0.37 &  0.32 &  0.58 &  0.28 & ...   & -0.43 &  0.46 &  0.17 &  0.21 &  0.31 &  0.02 &  0.33 &  1.00 & -0.36 &  0.25\\\\\n",
       "\tBoring & -0.18 & -0.22 & -0.10 & -0.20 & -0.17 &  0.11 & -0.32 & -0.22 & -0.30 & -0.20 & ...   &  0.33 & -0.33 & -0.09 &  0.00 & -0.26 &  0.17 & -0.28 & -0.36 &  1.00 & -0.17\\\\\n",
       "\tNutritious &  0.53 &  0.65 &  0.71 & -0.05 &  0.20 & -0.16 &  0.50 &  0.54 &  0.16 &  0.03 & ...   & -0.14 &  0.10 &  0.57 & -0.27 &  0.31 & -0.29 &  0.66 &  0.25 & -0.17 &  1.00\\\\\n",
       "\\end{tabular}\n"
      ],
      "text/markdown": [
       "\n",
       "| <!--/--> | Filling | Natural | Fibre | Sweet | Easy | Salt | Satisfying | Energy | Fun | Kids | ... | Plain | Crisp | Regular | Sugar | Fruit | Process | Quality | Treat | Boring | Nutritious |\n",
       "|---|---|---|---|---|---|---|---|---|---|---|---|---|---|---|---|---|---|---|---|---|---|\n",
       "| Filling |  1.00 |  0.54 |  0.55 |  0.19 |  0.24 | -0.04 |  0.65 |  0.64 |  0.27 |  0.16 | ...   | -0.25 |  0.13 |  0.42 | -0.08 |  0.26 | -0.23 |  0.44 |  0.34 | -0.18 |  0.53 |\n",
       "| Natural |  0.54 |  1.00 |  0.65 | -0.09 |  0.23 | -0.22 |  0.47 |  0.49 |  0.08 |  0.06 | ...   | -0.14 |  0.02 |  0.42 | -0.32 |  0.30 | -0.31 |  0.58 |  0.17 | -0.22 |  0.65 |\n",
       "| Fibre |  0.55 |  0.65 |  1.00 | -0.04 |  0.18 | -0.17 |  0.41 |  0.50 |  0.06 | -0.09 | ...   | -0.12 |  0.05 |  0.65 | -0.23 |  0.29 | -0.19 |  0.51 |  0.14 | -0.10 |  0.71 |\n",
       "| Sweet |  0.19 | -0.09 | -0.04 |  1.00 |  0.12 |  0.44 |  0.18 |  0.18 |  0.33 |  0.12 | ...   | -0.29 |  0.26 | -0.03 |  0.65 |  0.35 |  0.11 | -0.08 |  0.37 | -0.20 | -0.05 |\n",
       "| Easy |  0.24 |  0.23 |  0.18 |  0.12 |  1.00 |  0.01 |  0.35 |  0.18 |  0.24 |  0.24 | ...   |  0.02 |  0.24 |  0.11 | -0.02 |  0.04 | -0.07 |  0.16 |  0.18 | -0.17 |  0.20 |\n",
       "| Salt | -0.04 | -0.22 | -0.17 |  0.44 |  0.01 |  1.00 | -0.01 | -0.07 |  0.03 |  0.02 | ...   |  0.02 |  0.10 | -0.16 |  0.59 |  0.03 |  0.30 | -0.22 |  0.12 |  0.11 | -0.16 |\n",
       "| Satisfying |  0.65 |  0.47 |  0.41 |  0.18 |  0.35 | -0.01 |  1.00 |  0.60 |  0.35 |  0.30 | ...   | -0.18 |  0.26 |  0.33 | -0.09 |  0.25 | -0.19 |  0.47 |  0.37 | -0.32 |  0.50 |\n",
       "| Energy |  0.64 |  0.49 |  0.50 |  0.18 |  0.18 | -0.07 |  0.60 |  1.00 |  0.35 |  0.13 | ...   | -0.26 |  0.25 |  0.39 | -0.09 |  0.27 | -0.10 |  0.46 |  0.32 | -0.22 |  0.54 |\n",
       "| Fun |  0.27 |  0.08 |  0.06 |  0.33 |  0.24 |  0.03 |  0.35 |  0.35 |  1.00 |  0.34 | ...   | -0.32 |  0.40 |  0.14 |  0.17 |  0.25 | -0.01 |  0.22 |  0.58 | -0.30 |  0.16 |\n",
       "| Kids |  0.16 |  0.06 | -0.09 |  0.12 |  0.24 |  0.02 |  0.30 |  0.13 |  0.34 |  1.00 | ...   |  0.03 |  0.29 | -0.03 | -0.02 | -0.23 |  0.01 |  0.11 |  0.28 | -0.20 |  0.03 |\n",
       "| Soggy | -0.06 |  0.07 | -0.04 | -0.08 | -0.01 |  0.02 | -0.01 | -0.05 | -0.10 |  0.09 | ...   |  0.35 | -0.34 | -0.14 | -0.09 | -0.14 |  0.06 | -0.03 | -0.26 |  0.23 |  0.03 |\n",
       "| Economical |  0.05 |  0.10 | -0.03 | -0.24 |  0.09 | -0.13 |  0.21 |  0.03 |  0.04 |  0.30 | ...   |  0.23 |  0.09 |  0.08 | -0.29 | -0.34 | -0.13 |  0.22 | -0.04 | -0.02 |  0.13 |\n",
       "| Health |  0.55 |  0.69 |  0.68 | -0.12 |  0.20 | -0.23 |  0.52 |  0.52 |  0.10 | -0.01 | ...   | -0.10 |  0.08 |  0.54 | -0.38 |  0.27 | -0.29 |  0.69 |  0.22 | -0.23 |  0.76 |\n",
       "| Family |  0.23 |  0.11 | -0.01 |  0.04 |  0.23 | -0.09 |  0.35 |  0.19 |  0.35 |  0.72 | ...   | -0.03 |  0.28 |  0.04 | -0.06 | -0.13 | -0.03 |  0.24 |  0.29 | -0.25 |  0.09 |\n",
       "| Calories |  0.05 | -0.16 | -0.19 |  0.47 | -0.02 |  0.44 |  0.01 |  0.03 |  0.11 |  0.01 | ...   | -0.08 |  0.14 | -0.16 |  0.53 |  0.13 |  0.27 | -0.20 |  0.19 | -0.03 | -0.23 |\n",
       "| Plain | -0.25 | -0.14 | -0.12 | -0.29 |  0.02 |  0.02 | -0.18 | -0.26 | -0.32 |  0.03 | ...   |  1.00 | -0.21 | -0.08 | -0.15 | -0.34 |  0.12 | -0.23 | -0.43 |  0.33 | -0.14 |\n",
       "| Crisp |  0.13 |  0.02 |  0.05 |  0.26 |  0.24 |  0.10 |  0.26 |  0.25 |  0.40 |  0.29 | ...   | -0.21 |  1.00 |  0.13 |  0.16 |  0.09 |  0.01 |  0.13 |  0.46 | -0.33 |  0.10 |\n",
       "| Regular |  0.42 |  0.42 |  0.65 | -0.03 |  0.11 | -0.16 |  0.33 |  0.39 |  0.14 | -0.03 | ...   | -0.08 |  0.13 |  1.00 | -0.09 |  0.25 | -0.15 |  0.44 |  0.17 | -0.09 |  0.57 |\n",
       "| Sugar | -0.08 | -0.32 | -0.23 |  0.65 | -0.02 |  0.59 | -0.09 | -0.09 |  0.17 | -0.02 | ...   | -0.15 |  0.16 | -0.09 |  1.00 |  0.15 |  0.37 | -0.26 |  0.21 |  0.00 | -0.27 |\n",
       "| Fruit |  0.26 |  0.30 |  0.29 |  0.35 |  0.04 |  0.03 |  0.25 |  0.27 |  0.25 | -0.23 | ...   | -0.34 |  0.09 |  0.25 |  0.15 |  1.00 | -0.14 |  0.16 |  0.31 | -0.26 |  0.31 |\n",
       "| Process | -0.23 | -0.31 | -0.19 |  0.11 | -0.07 |  0.30 | -0.19 | -0.10 | -0.01 |  0.01 | ...   |  0.12 |  0.01 | -0.15 |  0.37 | -0.14 |  1.00 | -0.19 |  0.02 |  0.17 | -0.29 |\n",
       "| Quality |  0.44 |  0.58 |  0.51 | -0.08 |  0.16 | -0.22 |  0.47 |  0.46 |  0.22 |  0.11 | ...   | -0.23 |  0.13 |  0.44 | -0.26 |  0.16 | -0.19 |  1.00 |  0.33 | -0.28 |  0.66 |\n",
       "| Treat |  0.34 |  0.17 |  0.14 |  0.37 |  0.18 |  0.12 |  0.37 |  0.32 |  0.58 |  0.28 | ...   | -0.43 |  0.46 |  0.17 |  0.21 |  0.31 |  0.02 |  0.33 |  1.00 | -0.36 |  0.25 |\n",
       "| Boring | -0.18 | -0.22 | -0.10 | -0.20 | -0.17 |  0.11 | -0.32 | -0.22 | -0.30 | -0.20 | ...   |  0.33 | -0.33 | -0.09 |  0.00 | -0.26 |  0.17 | -0.28 | -0.36 |  1.00 | -0.17 |\n",
       "| Nutritious |  0.53 |  0.65 |  0.71 | -0.05 |  0.20 | -0.16 |  0.50 |  0.54 |  0.16 |  0.03 | ...   | -0.14 |  0.10 |  0.57 | -0.27 |  0.31 | -0.29 |  0.66 |  0.25 | -0.17 |  1.00 |\n",
       "\n"
      ],
      "text/plain": [
       "           Filling Natural Fibre Sweet Easy  Salt  Satisfying Energy Fun  \n",
       "Filling     1.00    0.54    0.55  0.19  0.24 -0.04  0.65       0.64   0.27\n",
       "Natural     0.54    1.00    0.65 -0.09  0.23 -0.22  0.47       0.49   0.08\n",
       "Fibre       0.55    0.65    1.00 -0.04  0.18 -0.17  0.41       0.50   0.06\n",
       "Sweet       0.19   -0.09   -0.04  1.00  0.12  0.44  0.18       0.18   0.33\n",
       "Easy        0.24    0.23    0.18  0.12  1.00  0.01  0.35       0.18   0.24\n",
       "Salt       -0.04   -0.22   -0.17  0.44  0.01  1.00 -0.01      -0.07   0.03\n",
       "Satisfying  0.65    0.47    0.41  0.18  0.35 -0.01  1.00       0.60   0.35\n",
       "Energy      0.64    0.49    0.50  0.18  0.18 -0.07  0.60       1.00   0.35\n",
       "Fun         0.27    0.08    0.06  0.33  0.24  0.03  0.35       0.35   1.00\n",
       "Kids        0.16    0.06   -0.09  0.12  0.24  0.02  0.30       0.13   0.34\n",
       "Soggy      -0.06    0.07   -0.04 -0.08 -0.01  0.02 -0.01      -0.05  -0.10\n",
       "Economical  0.05    0.10   -0.03 -0.24  0.09 -0.13  0.21       0.03   0.04\n",
       "Health      0.55    0.69    0.68 -0.12  0.20 -0.23  0.52       0.52   0.10\n",
       "Family      0.23    0.11   -0.01  0.04  0.23 -0.09  0.35       0.19   0.35\n",
       "Calories    0.05   -0.16   -0.19  0.47 -0.02  0.44  0.01       0.03   0.11\n",
       "Plain      -0.25   -0.14   -0.12 -0.29  0.02  0.02 -0.18      -0.26  -0.32\n",
       "Crisp       0.13    0.02    0.05  0.26  0.24  0.10  0.26       0.25   0.40\n",
       "Regular     0.42    0.42    0.65 -0.03  0.11 -0.16  0.33       0.39   0.14\n",
       "Sugar      -0.08   -0.32   -0.23  0.65 -0.02  0.59 -0.09      -0.09   0.17\n",
       "Fruit       0.26    0.30    0.29  0.35  0.04  0.03  0.25       0.27   0.25\n",
       "Process    -0.23   -0.31   -0.19  0.11 -0.07  0.30 -0.19      -0.10  -0.01\n",
       "Quality     0.44    0.58    0.51 -0.08  0.16 -0.22  0.47       0.46   0.22\n",
       "Treat       0.34    0.17    0.14  0.37  0.18  0.12  0.37       0.32   0.58\n",
       "Boring     -0.18   -0.22   -0.10 -0.20 -0.17  0.11 -0.32      -0.22  -0.30\n",
       "Nutritious  0.53    0.65    0.71 -0.05  0.20 -0.16  0.50       0.54   0.16\n",
       "           Kids  ... Plain Crisp Regular Sugar Fruit Process Quality Treat\n",
       "Filling     0.16 ... -0.25  0.13  0.42   -0.08  0.26 -0.23    0.44    0.34\n",
       "Natural     0.06 ... -0.14  0.02  0.42   -0.32  0.30 -0.31    0.58    0.17\n",
       "Fibre      -0.09 ... -0.12  0.05  0.65   -0.23  0.29 -0.19    0.51    0.14\n",
       "Sweet       0.12 ... -0.29  0.26 -0.03    0.65  0.35  0.11   -0.08    0.37\n",
       "Easy        0.24 ...  0.02  0.24  0.11   -0.02  0.04 -0.07    0.16    0.18\n",
       "Salt        0.02 ...  0.02  0.10 -0.16    0.59  0.03  0.30   -0.22    0.12\n",
       "Satisfying  0.30 ... -0.18  0.26  0.33   -0.09  0.25 -0.19    0.47    0.37\n",
       "Energy      0.13 ... -0.26  0.25  0.39   -0.09  0.27 -0.10    0.46    0.32\n",
       "Fun         0.34 ... -0.32  0.40  0.14    0.17  0.25 -0.01    0.22    0.58\n",
       "Kids        1.00 ...  0.03  0.29 -0.03   -0.02 -0.23  0.01    0.11    0.28\n",
       "Soggy       0.09 ...  0.35 -0.34 -0.14   -0.09 -0.14  0.06   -0.03   -0.26\n",
       "Economical  0.30 ...  0.23  0.09  0.08   -0.29 -0.34 -0.13    0.22   -0.04\n",
       "Health     -0.01 ... -0.10  0.08  0.54   -0.38  0.27 -0.29    0.69    0.22\n",
       "Family      0.72 ... -0.03  0.28  0.04   -0.06 -0.13 -0.03    0.24    0.29\n",
       "Calories    0.01 ... -0.08  0.14 -0.16    0.53  0.13  0.27   -0.20    0.19\n",
       "Plain       0.03 ...  1.00 -0.21 -0.08   -0.15 -0.34  0.12   -0.23   -0.43\n",
       "Crisp       0.29 ... -0.21  1.00  0.13    0.16  0.09  0.01    0.13    0.46\n",
       "Regular    -0.03 ... -0.08  0.13  1.00   -0.09  0.25 -0.15    0.44    0.17\n",
       "Sugar      -0.02 ... -0.15  0.16 -0.09    1.00  0.15  0.37   -0.26    0.21\n",
       "Fruit      -0.23 ... -0.34  0.09  0.25    0.15  1.00 -0.14    0.16    0.31\n",
       "Process     0.01 ...  0.12  0.01 -0.15    0.37 -0.14  1.00   -0.19    0.02\n",
       "Quality     0.11 ... -0.23  0.13  0.44   -0.26  0.16 -0.19    1.00    0.33\n",
       "Treat       0.28 ... -0.43  0.46  0.17    0.21  0.31  0.02    0.33    1.00\n",
       "Boring     -0.20 ...  0.33 -0.33 -0.09    0.00 -0.26  0.17   -0.28   -0.36\n",
       "Nutritious  0.03 ... -0.14  0.10  0.57   -0.27  0.31 -0.29    0.66    0.25\n",
       "           Boring Nutritious\n",
       "Filling    -0.18   0.53     \n",
       "Natural    -0.22   0.65     \n",
       "Fibre      -0.10   0.71     \n",
       "Sweet      -0.20  -0.05     \n",
       "Easy       -0.17   0.20     \n",
       "Salt        0.11  -0.16     \n",
       "Satisfying -0.32   0.50     \n",
       "Energy     -0.22   0.54     \n",
       "Fun        -0.30   0.16     \n",
       "Kids       -0.20   0.03     \n",
       "Soggy       0.23   0.03     \n",
       "Economical -0.02   0.13     \n",
       "Health     -0.23   0.76     \n",
       "Family     -0.25   0.09     \n",
       "Calories   -0.03  -0.23     \n",
       "Plain       0.33  -0.14     \n",
       "Crisp      -0.33   0.10     \n",
       "Regular    -0.09   0.57     \n",
       "Sugar       0.00  -0.27     \n",
       "Fruit      -0.26   0.31     \n",
       "Process     0.17  -0.29     \n",
       "Quality    -0.28   0.66     \n",
       "Treat      -0.36   0.25     \n",
       "Boring      1.00  -0.17     \n",
       "Nutritious -0.17   1.00     "
      ]
     },
     "metadata": {},
     "output_type": "display_data"
    }
   ],
   "source": [
    "cor.cereal <- cor(cereal)\n",
    "round(cor.cereal,2)\n"
   ]
  },
  {
   "cell_type": "code",
   "execution_count": 34,
   "id": "0ff94a08",
   "metadata": {},
   "outputs": [],
   "source": [
    "library(corrplot)\n"
   ]
  },
  {
   "cell_type": "code",
   "execution_count": 35,
   "id": "97a0140f",
   "metadata": {},
   "outputs": [
    {
     "data": {
      "image/png": "[encoded data removed]",
      "text/plain": [
       "Plot with title \"\""
      ]
     },
     "metadata": {},
     "output_type": "display_data"
    }
   ],
   "source": [
    "corrplot(cor.cereal, method = \"circle\",bg = \"grey\")\n"
   ]
  },
  {
   "cell_type": "markdown",
   "id": "1aacdfea",
   "metadata": {},
   "source": [
    "The next output from the analysis is the correlation coefficient. A correlation matrix is simply a rectangular array of numbers which gives the correlation coefficients between a single variable and every other variable in the investigation. The correlation coefficient between a variable and itself is always 1; hence the principal diagonal of the correlation matrix contains 1s. The correlation coefficients above and below the principal diagonal are the same.\n",
    "\n",
    "The matrix shows how each of the 25 items is associated with each of the other 24. Note that some of the correlations are high (e.g., + or −.60 or greater) and some are low (i.e., near zero). Relatively high correlations indicate that two items are associated and will probably be grouped together by the factor analysis. Items with low correlations (e.g., ≤.20) usually will not have high loadings on the same factor\n"
   ]
  },
  {
   "cell_type": "markdown",
   "id": "3b6e2f73",
   "metadata": {},
   "source": [
    "#\tKaiser-Meyer-Olkin (KMO) and Bartlett's Test"
   ]
  },
  {
   "cell_type": "code",
   "execution_count": 36,
   "id": "b5075806",
   "metadata": {},
   "outputs": [
    {
     "name": "stdout",
     "output_type": "stream",
     "text": [
      "$chisq\n",
      "[1] 2877.739\n",
      "\n",
      "$p.value\n",
      "[1] 0\n",
      "\n",
      "$df\n",
      "[1] 300\n",
      "\n",
      "Kaiser-Meyer-Olkin factor adequacy\n",
      "Call: KMO(r = corrpaste)\n",
      "Overall MSA =  0.85\n",
      "MSA for each item = \n",
      "   Filling    Natural      Fibre      Sweet       Easy       Salt Satisfying \n",
      "      0.89       0.90       0.88       0.78       0.83       0.82       0.91 \n",
      "    Energy        Fun       Kids      Soggy Economical     Health     Family \n",
      "      0.91       0.85       0.67       0.63       0.73       0.92       0.73 \n",
      "  Calories      Plain      Crisp    Regular      Sugar      Fruit    Process \n",
      "      0.86       0.82       0.83       0.87       0.78       0.77       0.80 \n",
      "   Quality      Treat     Boring Nutritious \n",
      "      0.91       0.88       0.87       0.92 \n"
     ]
    }
   ],
   "source": [
    "library(psych)\n",
    "bartlettTest = cortest.bartlett(corrpaste, nrow(cereal))\n",
    "print(bartlettTest)\n",
    "\n",
    "kmoTest = KMO(corrpaste)\n",
    "print(kmoTest)\n"
   ]
  },
  {
   "cell_type": "markdown",
   "id": "66e11b99",
   "metadata": {},
   "source": [
    "The next item from the output is the Kaiser-Meyer-Olkin (KMO) and Bartlett's test. The KMO measures the sampling adequacy which should be greater than 0.6 for a satisfactory factor analysis to proceed. Looking at the table below, the KMO measure is 0.85. From the same table, we can see that the Bartlett's test of sphericity is also significant. That is, its associated probability is less than 0.05. Thus the null hypothesis is rejected (The null hypothesis is that the correlation matrix is an identity matrix i.e. there is no scope for dimensionality reduction.). Thus, the dimensionality reduction is a possibility using PCA/FA."
   ]
  },
  {
   "cell_type": "markdown",
   "id": "184b688e",
   "metadata": {},
   "source": [
    "# Barlett’s Test of Sphericity\n"
   ]
  },
  {
   "cell_type": "code",
   "execution_count": 37,
   "id": "7a870d79",
   "metadata": {},
   "outputs": [
    {
     "data": {
      "text/html": [
       "<dl>\n",
       "\t<dt>$chisq</dt>\n",
       "\t\t<dd>2877.73856777721</dd>\n",
       "\t<dt>$p.value</dt>\n",
       "\t\t<dd>0</dd>\n",
       "\t<dt>$df</dt>\n",
       "\t\t<dd>300</dd>\n",
       "</dl>\n"
      ],
      "text/latex": [
       "\\begin{description}\n",
       "\\item[\\$chisq] 2877.73856777721\n",
       "\\item[\\$p.value] 0\n",
       "\\item[\\$df] 300\n",
       "\\end{description}\n"
      ],
      "text/markdown": [
       "$chisq\n",
       ":   2877.73856777721\n",
       "$p.value\n",
       ":   0\n",
       "$df\n",
       ":   300\n",
       "\n",
       "\n"
      ],
      "text/plain": [
       "$chisq\n",
       "[1] 2877.739\n",
       "\n",
       "$p.value\n",
       "[1] 0\n",
       "\n",
       "$df\n",
       "[1] 300\n"
      ]
     },
     "metadata": {},
     "output_type": "display_data"
    }
   ],
   "source": [
    "cereal.barlett <- cortest.bartlett(cor.cereal, nrow(cereal))\n",
    "cereal.barlett\n"
   ]
  },
  {
   "cell_type": "markdown",
   "id": "50e5d218",
   "metadata": {},
   "source": [
    "Bartlett’s test has to be ‘significant’, telling us that the correlation matrix is not an identity matrix with the p-value <0.05. On running the test, we have obtained the p-value as 0.\n",
    "\n",
    "Thus, based on the above results, we assume that the fair correlation exists between all the variables, so we can run the Factor Analysis on the given data set.\n",
    "\n"
   ]
  },
  {
   "cell_type": "markdown",
   "id": "21d4bbbb",
   "metadata": {},
   "source": [
    "# \tNo. of Factors and Total Variance Explained"
   ]
  },
  {
   "cell_type": "code",
   "execution_count": 45,
   "id": "b5b5add9",
   "metadata": {},
   "outputs": [
    {
     "data": {
      "text/plain": [
       "Importance of components:\n",
       "                          Comp.1    Comp.2     Comp.3     Comp.4     Comp.5\n",
       "Standard deviation     2.5515645 1.9473508 1.57931249 1.29699429 1.04196617\n",
       "Proportion of Variance 0.2604193 0.1516870 0.09976912 0.06728777 0.04342774\n",
       "Cumulative Proportion  0.2604193 0.4121063 0.51187538 0.57916315 0.62259089\n",
       "                           Comp.6     Comp.7     Comp.8     Comp.9    Comp.10\n",
       "Standard deviation     0.97215571 0.92371682 0.88941254 0.85594266 0.83528812\n",
       "Proportion of Variance 0.03780347 0.03413011 0.03164219 0.02930551 0.02790825\n",
       "Cumulative Proportion  0.66039436 0.69452447 0.72616666 0.75547217 0.78338042\n",
       "                          Comp.11    Comp.12    Comp.13    Comp.14   Comp.15\n",
       "Standard deviation     0.80508009 0.74210795 0.72900837 0.69819277 0.6456121\n",
       "Proportion of Variance 0.02592616 0.02202897 0.02125813 0.01949893 0.0166726\n",
       "Cumulative Proportion  0.80930658 0.83133555 0.85259368 0.87209260 0.8887652\n",
       "                          Comp.16    Comp.17    Comp.18    Comp.19    Comp.20\n",
       "Standard deviation     0.62203549 0.60340597 0.60072703 0.55329582 0.52496345\n",
       "Proportion of Variance 0.01547713 0.01456395 0.01443492 0.01224545 0.01102346\n",
       "Cumulative Proportion  0.90424233 0.91880628 0.93324119 0.94548664 0.95651011\n",
       "                          Comp.21     Comp.22     Comp.23     Comp.24\n",
       "Standard deviation     0.51267066 0.492791255 0.467311607 0.445682156\n",
       "Proportion of Variance 0.01051325 0.009713729 0.008735206 0.007945303\n",
       "Cumulative Proportion  0.96702336 0.976737086 0.985472292 0.993417595\n",
       "                           Comp.25\n",
       "Standard deviation     0.405660102\n",
       "Proportion of Variance 0.006582405\n",
       "Cumulative Proportion  1.000000000"
      ]
     },
     "metadata": {},
     "output_type": "display_data"
    }
   ],
   "source": [
    "cereal.pca <- princomp(cereal,scores = TRUE, cor = TRUE)\n",
    "summary(cereal.pca)\n"
   ]
  },
  {
   "cell_type": "markdown",
   "id": "289ed752",
   "metadata": {},
   "source": [
    "Interpretations from the above values,\n",
    "\n",
    "According to KMO statistics concept, all principal component values which has an Eigen value of greater than 1, can be taken into consideration for the dimension reduction technique.\n",
    "\n",
    "Based on that criteria, in our case we will take first 5 principal components into consideration.\n",
    "\n",
    "From the output values, Comp 1 explains 26% of variation of the whole data set, likewise Comp 2 explains 15%, Comp 3 explains 10%, Comp 4 explians 7% and Comp 5 explains 4% of variation of the entire data set.\n",
    "\n",
    "Therefore, it implies PCA1 to PCA5 itself are able to explain 62% of the data."
   ]
  },
  {
   "cell_type": "code",
   "execution_count": 46,
   "id": "bde9295a",
   "metadata": {},
   "outputs": [
    {
     "data": {
      "image/png": "[encoded data removed]",
      "text/plain": [
       "Plot with title \"cereal.pca\""
      ]
     },
     "metadata": {},
     "output_type": "display_data"
    }
   ],
   "source": [
    "plot(cereal.pca,col = \"black\")\n",
    "\n"
   ]
  },
  {
   "cell_type": "markdown",
   "id": "95d88a5f",
   "metadata": {},
   "source": [
    "From the above plot, after Comp 5 the bar flattens and there is no further steep.\n",
    "\n"
   ]
  },
  {
   "cell_type": "code",
   "execution_count": 47,
   "id": "12193cc4",
   "metadata": {},
   "outputs": [
    {
     "data": {
      "image/png": "[encoded data removed]",
      "text/plain": [
       "Plot with title \"Screeplot\""
      ]
     },
     "metadata": {},
     "output_type": "display_data"
    }
   ],
   "source": [
    "screeplot(cereal.pca,type = \"lines\",main = \"Screeplot\")\n"
   ]
  },
  {
   "cell_type": "markdown",
   "id": "0c73f376",
   "metadata": {},
   "source": [
    "In the above Screeplot , after the Comp 5 which is above Eigen value(Variances) 1,the “Elbow” shape becomes a line and flattens.\n",
    "\n"
   ]
  },
  {
   "cell_type": "code",
   "execution_count": 48,
   "id": "a5b04e2b",
   "metadata": {},
   "outputs": [
    {
     "data": {
      "text/plain": [
       "\n",
       "Loadings:\n",
       "           Comp.1 Comp.2 Comp.3 Comp.4 Comp.5 Comp.6 Comp.7 Comp.8 Comp.9\n",
       "Filling     0.293                0.176  0.107         0.232  0.406       \n",
       "Natural     0.294 -0.132         0.101  0.139                       0.210\n",
       "Fibre       0.287 -0.123  0.210  0.138 -0.155        -0.148  0.119       \n",
       "Sweet              0.398  0.117  0.143  0.155  0.114               -0.178\n",
       "Easy        0.136        -0.171  0.121         0.667 -0.478         0.163\n",
       "Salt               0.280         0.373 -0.127  0.109  0.210 -0.220       \n",
       "Satisfying  0.292        -0.108  0.152  0.101  0.124  0.182  0.110       \n",
       "Energy      0.285                0.131        -0.128  0.112  0.297  0.104\n",
       "Fun         0.161  0.270 -0.162 -0.113        -0.175 -0.230        -0.353\n",
       "Kids               0.129 -0.498               -0.103         0.139       \n",
       "Soggy             -0.142 -0.113  0.446  0.479 -0.173 -0.173 -0.311 -0.103\n",
       "Economical        -0.147 -0.366        -0.237         0.458 -0.349 -0.162\n",
       "Health      0.318 -0.161                                    -0.193       \n",
       "Family      0.124        -0.460         0.137 -0.199 -0.120  0.172       \n",
       "Calories           0.324  0.110  0.216                0.280  0.101  0.259\n",
       "Plain      -0.129 -0.208 -0.158  0.374 -0.143  0.232 -0.120              \n",
       "Crisp       0.121  0.252 -0.171 -0.185 -0.402  0.186                     \n",
       "Regular     0.243         0.142        -0.381        -0.142        -0.359\n",
       "Sugar              0.384  0.142  0.201                      -0.114 -0.113\n",
       "Fruit       0.154  0.148  0.342 -0.111  0.282        -0.185 -0.189 -0.178\n",
       "Process    -0.134  0.155         0.263 -0.339 -0.409 -0.364         0.480\n",
       "Quality     0.295                             -0.225        -0.307  0.206\n",
       "Treat       0.190  0.302        -0.150        -0.190        -0.155       \n",
       "Boring     -0.162 -0.152         0.334 -0.158 -0.153         0.361 -0.418\n",
       "Nutritious  0.316 -0.116  0.102  0.114                      -0.167       \n",
       "           Comp.10 Comp.11 Comp.12 Comp.13 Comp.14 Comp.15 Comp.16 Comp.17\n",
       "Filling                     0.109           0.108   0.111           0.278 \n",
       "Natural                    -0.281   0.110          -0.272  -0.379   0.167 \n",
       "Fibre      -0.177                          -0.139          -0.213   0.197 \n",
       "Sweet      -0.130           0.227          -0.214  -0.132   0.294   0.306 \n",
       "Easy        0.248   0.230   0.114   0.188                                 \n",
       "Salt                0.352  -0.158  -0.282   0.306   0.206  -0.379  -0.218 \n",
       "Satisfying  0.127  -0.124   0.232  -0.108   0.348           0.170  -0.137 \n",
       "Energy      0.231  -0.283   0.117  -0.347  -0.160   0.107          -0.157 \n",
       "Fun         0.390  -0.167           0.163           0.312  -0.344  -0.172 \n",
       "Kids       -0.298   0.116  -0.108                  -0.132  -0.189         \n",
       "Soggy              -0.121          -0.171  -0.348                         \n",
       "Economical  0.223           0.261   0.205          -0.356  -0.132   0.102 \n",
       "Health                                                      0.124   0.109 \n",
       "Family     -0.369                           0.141           0.144  -0.243 \n",
       "Calories           -0.310  -0.343   0.520  -0.233                  -0.201 \n",
       "Plain      -0.173  -0.458  -0.179           0.261   0.378   0.205   0.143 \n",
       "Crisp              -0.261  -0.358  -0.465  -0.247  -0.227   0.106         \n",
       "Regular    -0.345  -0.103   0.262   0.243  -0.104                  -0.117 \n",
       "Sugar      -0.190   0.148   0.218          -0.141           0.118         \n",
       "Fruit              -0.302                   0.462  -0.427          -0.166 \n",
       "Process     0.131  -0.132   0.238           0.173  -0.227           0.137 \n",
       "Quality             0.225           0.159  -0.109   0.102   0.425  -0.362 \n",
       "Treat       0.198   0.124  -0.300   0.179   0.191   0.181   0.163   0.512 \n",
       "Boring      0.359   0.227  -0.299                  -0.330   0.218         \n",
       "Nutritious          0.105  -0.156                                  -0.125 \n",
       "           Comp.18 Comp.19 Comp.20 Comp.21 Comp.22 Comp.23 Comp.24 Comp.25\n",
       "Filling     0.188   0.268           0.416   0.124   0.413   0.230         \n",
       "Natural    -0.223   0.437          -0.335                          -0.315 \n",
       "Fibre                       0.339   0.183  -0.277  -0.503   0.189   0.344 \n",
       "Sweet      -0.381  -0.169   0.120   0.101   0.227  -0.213          -0.331 \n",
       "Easy                       -0.191                                         \n",
       "Salt                       -0.121   0.120   0.159  -0.131                 \n",
       "Satisfying  0.313           0.412  -0.465          -0.150                 \n",
       "Energy     -0.314          -0.519  -0.141  -0.112  -0.115           0.116 \n",
       "Fun        -0.182   0.135   0.324   0.105                  -0.102         \n",
       "Kids       -0.203  -0.356          -0.221   0.245   0.248           0.394 \n",
       "Soggy       0.419                                                         \n",
       "Economical                 -0.117   0.160  -0.178                         \n",
       "Health                              0.192   0.226          -0.767   0.270 \n",
       "Family              0.219  -0.143   0.309  -0.267  -0.272  -0.186  -0.248 \n",
       "Calories    0.121  -0.203                                  -0.160         \n",
       "Plain      -0.283   0.135                                   0.125         \n",
       "Crisp       0.210   0.174   0.126           0.108                         \n",
       "Regular     0.283          -0.270  -0.178   0.305                  -0.188 \n",
       "Sugar               0.395          -0.252  -0.421   0.268  -0.136   0.338 \n",
       "Fruit                      -0.127   0.144                   0.160   0.217 \n",
       "Process                             0.102                          -0.118 \n",
       "Quality    -0.160   0.160                   0.261           0.380   0.136 \n",
       "Treat       0.204          -0.316  -0.211  -0.151  -0.149                 \n",
       "Boring     -0.101                                                         \n",
       "Nutritious         -0.461                  -0.461   0.453          -0.332 \n",
       "\n",
       "               Comp.1 Comp.2 Comp.3 Comp.4 Comp.5 Comp.6 Comp.7 Comp.8 Comp.9\n",
       "SS loadings      1.00   1.00   1.00   1.00   1.00   1.00   1.00   1.00   1.00\n",
       "Proportion Var   0.04   0.04   0.04   0.04   0.04   0.04   0.04   0.04   0.04\n",
       "Cumulative Var   0.04   0.08   0.12   0.16   0.20   0.24   0.28   0.32   0.36\n",
       "               Comp.10 Comp.11 Comp.12 Comp.13 Comp.14 Comp.15 Comp.16 Comp.17\n",
       "SS loadings       1.00    1.00    1.00    1.00    1.00    1.00    1.00    1.00\n",
       "Proportion Var    0.04    0.04    0.04    0.04    0.04    0.04    0.04    0.04\n",
       "Cumulative Var    0.40    0.44    0.48    0.52    0.56    0.60    0.64    0.68\n",
       "               Comp.18 Comp.19 Comp.20 Comp.21 Comp.22 Comp.23 Comp.24 Comp.25\n",
       "SS loadings       1.00    1.00    1.00    1.00    1.00    1.00    1.00    1.00\n",
       "Proportion Var    0.04    0.04    0.04    0.04    0.04    0.04    0.04    0.04\n",
       "Cumulative Var    0.72    0.76    0.80    0.84    0.88    0.92    0.96    1.00"
      ]
     },
     "metadata": {},
     "output_type": "display_data"
    }
   ],
   "source": [
    "loadings(cereal.pca)\n"
   ]
  },
  {
   "cell_type": "code",
   "execution_count": 49,
   "id": "7a4ec012",
   "metadata": {},
   "outputs": [
    {
     "name": "stdout",
     "output_type": "stream",
     "text": [
      "\n",
      "Loadings:\n",
      "           Comp.1 Comp.2 Comp.3 Comp.4 Comp.5 Comp.6 Comp.7 Comp.8 Comp.9\n",
      "Filling     0.293                                     0.232  0.406       \n",
      "Natural     0.294                                                   0.210\n",
      "Fibre       0.287         0.210                                          \n",
      "Sweet              0.398                                                 \n",
      "Easy                                           0.667 -0.478              \n",
      "Salt               0.280         0.373                0.210 -0.220       \n",
      "Satisfying  0.292                                                        \n",
      "Energy      0.285                                            0.297       \n",
      "Fun                0.270                             -0.230        -0.353\n",
      "Kids                     -0.498                                          \n",
      "Soggy                            0.446  0.479               -0.311       \n",
      "Economical               -0.366        -0.237         0.458 -0.349       \n",
      "Health      0.318                                                        \n",
      "Family                   -0.460                                          \n",
      "Calories           0.324         0.216                0.280         0.259\n",
      "Plain             -0.208         0.374         0.232                     \n",
      "Crisp              0.252               -0.402                            \n",
      "Regular     0.243                      -0.381                      -0.359\n",
      "Sugar              0.384         0.201                                   \n",
      "Fruit                     0.342         0.282                            \n",
      "Process                          0.263 -0.339 -0.409 -0.364         0.480\n",
      "Quality     0.295                             -0.225        -0.307  0.206\n",
      "Treat              0.302                                                 \n",
      "Boring                           0.334                       0.361 -0.418\n",
      "Nutritious  0.316                                                        \n",
      "           Comp.10 Comp.11 Comp.12 Comp.13 Comp.14 Comp.15 Comp.16 Comp.17\n",
      "Filling                                                             0.278 \n",
      "Natural                    -0.281                  -0.272  -0.379         \n",
      "Fibre                                                      -0.213         \n",
      "Sweet                       0.227          -0.214           0.294   0.306 \n",
      "Easy        0.248   0.230                                                 \n",
      "Salt                0.352          -0.282   0.306   0.206  -0.379  -0.218 \n",
      "Satisfying                  0.232           0.348                         \n",
      "Energy      0.231  -0.283          -0.347                                 \n",
      "Fun         0.390                                   0.312  -0.344         \n",
      "Kids       -0.298                                                         \n",
      "Soggy                                      -0.348                         \n",
      "Economical  0.223           0.261   0.205          -0.356                 \n",
      "Health                                                                    \n",
      "Family     -0.369                                                  -0.243 \n",
      "Calories           -0.310  -0.343   0.520  -0.233                  -0.201 \n",
      "Plain              -0.458                   0.261   0.378   0.205         \n",
      "Crisp              -0.261  -0.358  -0.465  -0.247  -0.227                 \n",
      "Regular    -0.345           0.262   0.243                                 \n",
      "Sugar                       0.218                                         \n",
      "Fruit              -0.302                   0.462  -0.427                 \n",
      "Process                     0.238                  -0.227                 \n",
      "Quality             0.225                                   0.425  -0.362 \n",
      "Treat                      -0.300                                   0.512 \n",
      "Boring      0.359   0.227  -0.299                  -0.330   0.218         \n",
      "Nutritious                                                                \n",
      "           Comp.18 Comp.19 Comp.20 Comp.21 Comp.22 Comp.23 Comp.24 Comp.25\n",
      "Filling             0.268           0.416           0.413   0.230         \n",
      "Natural    -0.223   0.437          -0.335                          -0.315 \n",
      "Fibre                       0.339          -0.277  -0.503           0.344 \n",
      "Sweet      -0.381                           0.227  -0.213          -0.331 \n",
      "Easy                                                                      \n",
      "Salt                                                                      \n",
      "Satisfying  0.313           0.412  -0.465                                 \n",
      "Energy     -0.314          -0.519                                         \n",
      "Fun                         0.324                                         \n",
      "Kids       -0.203  -0.356          -0.221   0.245   0.248           0.394 \n",
      "Soggy       0.419                                                         \n",
      "Economical                                                                \n",
      "Health                                      0.226          -0.767   0.270 \n",
      "Family              0.219           0.309  -0.267  -0.272          -0.248 \n",
      "Calories           -0.203                                                 \n",
      "Plain      -0.283                                                         \n",
      "Crisp       0.210                                                         \n",
      "Regular     0.283          -0.270           0.305                         \n",
      "Sugar               0.395          -0.252  -0.421   0.268           0.338 \n",
      "Fruit                                                               0.217 \n",
      "Process                                                                   \n",
      "Quality                                     0.261           0.380         \n",
      "Treat       0.204          -0.316  -0.211                                 \n",
      "Boring                                                                    \n",
      "Nutritious         -0.461                  -0.461   0.453          -0.332 \n",
      "\n",
      "               Comp.1 Comp.2 Comp.3 Comp.4 Comp.5 Comp.6 Comp.7 Comp.8 Comp.9\n",
      "SS loadings      1.00   1.00   1.00   1.00   1.00   1.00   1.00   1.00   1.00\n",
      "Proportion Var   0.04   0.04   0.04   0.04   0.04   0.04   0.04   0.04   0.04\n",
      "Cumulative Var   0.04   0.08   0.12   0.16   0.20   0.24   0.28   0.32   0.36\n",
      "               Comp.10 Comp.11 Comp.12 Comp.13 Comp.14 Comp.15 Comp.16 Comp.17\n",
      "SS loadings       1.00    1.00    1.00    1.00    1.00    1.00    1.00    1.00\n",
      "Proportion Var    0.04    0.04    0.04    0.04    0.04    0.04    0.04    0.04\n",
      "Cumulative Var    0.40    0.44    0.48    0.52    0.56    0.60    0.64    0.68\n",
      "               Comp.18 Comp.19 Comp.20 Comp.21 Comp.22 Comp.23 Comp.24 Comp.25\n",
      "SS loadings       1.00    1.00    1.00    1.00    1.00    1.00    1.00    1.00\n",
      "Proportion Var    0.04    0.04    0.04    0.04    0.04    0.04    0.04    0.04\n",
      "Cumulative Var    0.72    0.76    0.80    0.84    0.88    0.92    0.96    1.00\n"
     ]
    }
   ],
   "source": [
    "print(cereal.pca$loadings, cutoff = 0.2)\n"
   ]
  },
  {
   "cell_type": "markdown",
   "id": "5127501f",
   "metadata": {},
   "source": [
    "# Biplot of components\n"
   ]
  },
  {
   "cell_type": "code",
   "execution_count": 50,
   "id": "82556f25",
   "metadata": {},
   "outputs": [
    {
     "data": {
      "image/png": "[encoded data removed]",
      "text/plain": [
       "plot without title"
      ]
     },
     "metadata": {},
     "output_type": "display_data"
    }
   ],
   "source": [
    "biplot(cereal.pca, choices = c(1,2))\n"
   ]
  },
  {
   "cell_type": "markdown",
   "id": "9c884e7e",
   "metadata": {},
   "source": [
    "# Running Factor Analysis\n"
   ]
  },
  {
   "cell_type": "markdown",
   "id": "328461be",
   "metadata": {},
   "source": [
    "## Factor analysis without rotation\n"
   ]
  },
  {
   "cell_type": "code",
   "execution_count": 53,
   "id": "9c2e5465",
   "metadata": {},
   "outputs": [
    {
     "data": {
      "text/plain": [
       "\n",
       "Call:\n",
       "factanal(x = cereal, factors = 5, rotation = \"none\")\n",
       "\n",
       "Uniquenesses:\n",
       "   Filling    Natural      Fibre      Sweet       Easy       Salt Satisfying \n",
       "     0.286      0.389      0.312      0.360      0.847      0.517      0.369 \n",
       "    Energy        Fun       Kids      Soggy Economical     Health     Family \n",
       "     0.431      0.525      0.239      0.775      0.709      0.214      0.352 \n",
       "  Calories      Plain      Crisp    Regular      Sugar      Fruit    Process \n",
       "     0.578      0.549      0.648      0.550      0.199      0.562      0.764 \n",
       "   Quality      Treat     Boring Nutritious \n",
       "     0.392      0.391      0.671      0.241 \n",
       "\n",
       "Loadings:\n",
       "           Factor1 Factor2 Factor3 Factor4 Factor5\n",
       "Filling     0.719   0.243           0.143  -0.338 \n",
       "Natural     0.763  -0.116                         \n",
       "Fibre       0.757  -0.113  -0.283   0.137         \n",
       "Sweet               0.757  -0.244                 \n",
       "Easy        0.289   0.188   0.168                 \n",
       "Salt       -0.258   0.495  -0.215   0.341         \n",
       "Satisfying  0.690   0.295   0.132          -0.205 \n",
       "Energy      0.682   0.237                  -0.204 \n",
       "Fun         0.287   0.533   0.191  -0.266         \n",
       "Kids        0.164   0.365   0.762   0.135         \n",
       "Soggy              -0.177   0.143   0.413         \n",
       "Economical  0.183  -0.172   0.440   0.143   0.117 \n",
       "Health      0.854  -0.177  -0.112           0.110 \n",
       "Family      0.260   0.310   0.694                 \n",
       "Calories   -0.237   0.536  -0.206   0.131  -0.134 \n",
       "Plain      -0.232  -0.352   0.187   0.480         \n",
       "Crisp       0.197   0.450   0.172  -0.233   0.164 \n",
       "Regular     0.605          -0.195           0.196 \n",
       "Sugar      -0.356   0.716  -0.325   0.185   0.147 \n",
       "Fruit       0.324   0.257  -0.447  -0.247         \n",
       "Process    -0.336   0.227           0.198   0.176 \n",
       "Quality     0.746                           0.213 \n",
       "Treat       0.368   0.589          -0.328   0.124 \n",
       "Boring     -0.314  -0.283  -0.114   0.370         \n",
       "Nutritious  0.834          -0.142           0.170 \n",
       "\n",
       "               Factor1 Factor2 Factor3 Factor4 Factor5\n",
       "SS loadings      6.049   3.368   2.062   1.165   0.486\n",
       "Proportion Var   0.242   0.135   0.082   0.047   0.019\n",
       "Cumulative Var   0.242   0.377   0.459   0.506   0.525\n",
       "\n",
       "Test of the hypothesis that 5 factors are sufficient.\n",
       "The chi square statistic is 318.9 on 185 degrees of freedom.\n",
       "The p-value is 3.48e-09 "
      ]
     },
     "metadata": {},
     "output_type": "display_data"
    }
   ],
   "source": [
    "factanal(cereal,factors = 5,rotation = \"none\")\n",
    "\n"
   ]
  },
  {
   "cell_type": "markdown",
   "id": "ee286332",
   "metadata": {},
   "source": [
    "From the above, we observe that the variables “Easy”, “Soggy”, “Economical”, “Crisp”, “Process” and “Boring” have high ’Uniquenesses - means it does not correlate with other variables and can be used as it is.\n",
    "\n",
    "We observe that the loadings are not very clear, hence it has to be rotated to increase the very clear interpretability. It is done to maximize the high loadings and minimize low loadings.\n",
    "\n"
   ]
  },
  {
   "cell_type": "markdown",
   "id": "62acc8ac",
   "metadata": {},
   "source": [
    "## Factor loadings with Varimax rotation\n"
   ]
  },
  {
   "cell_type": "code",
   "execution_count": 55,
   "id": "6c73a377",
   "metadata": {},
   "outputs": [
    {
     "data": {
      "text/plain": [
       "\n",
       "Call:\n",
       "factanal(x = cereal, factors = 5, rotation = \"varimax\")\n",
       "\n",
       "Uniquenesses:\n",
       "   Filling    Natural      Fibre      Sweet       Easy       Salt Satisfying \n",
       "     0.286      0.389      0.312      0.360      0.847      0.517      0.369 \n",
       "    Energy        Fun       Kids      Soggy Economical     Health     Family \n",
       "     0.431      0.525      0.239      0.775      0.709      0.214      0.352 \n",
       "  Calories      Plain      Crisp    Regular      Sugar      Fruit    Process \n",
       "     0.578      0.549      0.648      0.550      0.199      0.562      0.764 \n",
       "   Quality      Treat     Boring Nutritious \n",
       "     0.392      0.391      0.671      0.241 \n",
       "\n",
       "Loadings:\n",
       "           Factor1 Factor2 Factor3 Factor4 Factor5\n",
       "Filling     0.646           0.147   0.186   0.486 \n",
       "Natural     0.731  -0.214                   0.155 \n",
       "Fibre       0.816                                 \n",
       "Sweet               0.696   0.354           0.164 \n",
       "Easy        0.228                   0.292         \n",
       "Salt                0.686                         \n",
       "Satisfying  0.571           0.202   0.369   0.355 \n",
       "Energy      0.610           0.228   0.161   0.343 \n",
       "Fun         0.126   0.155   0.545   0.364         \n",
       "Kids                                0.868         \n",
       "Soggy                      -0.452   0.138         \n",
       "Economical         -0.257  -0.190   0.410  -0.104 \n",
       "Health      0.839  -0.271                         \n",
       "Family                      0.133   0.789         \n",
       "Calories   -0.157   0.591   0.122           0.179 \n",
       "Plain      -0.115          -0.635   0.100  -0.147 \n",
       "Crisp               0.148   0.465   0.318         \n",
       "Regular     0.658                                 \n",
       "Sugar      -0.177   0.854   0.171                 \n",
       "Fruit       0.339   0.159   0.433  -0.294   0.155 \n",
       "Process    -0.218   0.380  -0.105          -0.181 \n",
       "Quality     0.682  -0.222   0.221   0.190         \n",
       "Treat       0.234   0.208   0.659   0.278         \n",
       "Boring     -0.150          -0.513  -0.193         \n",
       "Nutritious  0.849  -0.154                         \n",
       "\n",
       "               Factor1 Factor2 Factor3 Factor4 Factor5\n",
       "SS loadings      5.044   2.583   2.440   2.353   0.711\n",
       "Proportion Var   0.202   0.103   0.098   0.094   0.028\n",
       "Cumulative Var   0.202   0.305   0.403   0.497   0.525\n",
       "\n",
       "Test of the hypothesis that 5 factors are sufficient.\n",
       "The chi square statistic is 318.9 on 185 degrees of freedom.\n",
       "The p-value is 3.48e-09 "
      ]
     },
     "metadata": {},
     "output_type": "display_data"
    }
   ],
   "source": [
    "factanal(cereal,factors = 5,rotation = \"varimax\")\n",
    "\n"
   ]
  },
  {
   "cell_type": "markdown",
   "id": "ae7ec15a",
   "metadata": {},
   "source": [
    "Thus, after the rotation we observe that the 5 factors are able to explain about 52% of the data. We infer that based on the latent relation between the variables they are grouped into as “Factors”. The factor loadings explains the weightage of each variable has in the Factors. We can also see that the some of the variables are present in more than one factor, which is known as the ‘Communality’ effect.\n",
    "\n",
    "Thus,the factor scores for all the 235 observations are known,from which prediction or classification can be done.\n"
   ]
  },
  {
   "cell_type": "markdown",
   "id": "0fb734fc",
   "metadata": {},
   "source": [
    "# Naming and defining the factors\n"
   ]
  },
  {
   "cell_type": "markdown",
   "id": "adb1e1e3",
   "metadata": {},
   "source": [
    "The variable that load highly on factor -\n",
    "\n",
    "Factor 1 -‘State of well being’ Filling,Natural,Fibre,Satisfying,Energy,Health,Regular,Quality,Nutritious\n",
    "\n",
    "The variable that load highly on factor - Factor 2 - ‘Nutritional Information’ Sweet,Salt,Calories,Sugar,Process,\n",
    "\n",
    "The variable that load highly on factor - Factor 3 - Fun,Soggy,Crisp,Fruit,Treat,Boring,Plain - ‘Experience’\n",
    "\n",
    "The variable that load highly on factor - Factor 4 - Kids,Economical,Family - ‘Family’\n",
    "\n",
    "The variable that load highly on factor - Factor 5 - Filling,Satisfying,Energy - ‘Supporting variables’"
   ]
  },
  {
   "cell_type": "markdown",
   "id": "61357363",
   "metadata": {},
   "source": [
    "# 7.\tReliability of Factors"
   ]
  },
  {
   "cell_type": "code",
   "execution_count": 57,
   "id": "9a1144b0",
   "metadata": {},
   "outputs": [
    {
     "name": "stderr",
     "output_type": "stream",
     "text": [
      "Warning message in psych::alpha(cereal1[, factor4], check.keys = TRUE):\n",
      "\"Some items were negatively correlated with total scale and were automatically reversed.\n",
      " This is indicated by a negative sign for the variable name.\""
     ]
    }
   ],
   "source": [
    "factor1 <- c(2,3,4,8,9,14,19,23,26)\n",
    "factor2 <- c(5,7,16,20,22)\n",
    "factor3 <- c(6,11,13,15)\n",
    "factor4 <- c(10,12,17,18,21,24,25)\n",
    "factor1alpha <- psych::alpha(cereal1[,factor1], check.keys = TRUE)\n",
    "factor2alpha <- psych::alpha(cereal1[,factor2], check.keys = TRUE)\n",
    "factor3alpha <- psych::alpha(cereal1[,factor3], check.keys = TRUE)\n",
    "factor4alpha <- psych::alpha(cereal1[,factor4], check.keys = TRUE)\n"
   ]
  },
  {
   "cell_type": "code",
   "execution_count": 58,
   "id": "608a0e74",
   "metadata": {},
   "outputs": [
    {
     "data": {
      "text/html": [
       "0.912910090212957"
      ],
      "text/latex": [
       "0.912910090212957"
      ],
      "text/markdown": [
       "0.912910090212957"
      ],
      "text/plain": [
       "[1] 0.9129101"
      ]
     },
     "metadata": {},
     "output_type": "display_data"
    },
    {
     "data": {
      "text/html": [
       "0.772072062668636"
      ],
      "text/latex": [
       "0.772072062668636"
      ],
      "text/markdown": [
       "0.772072062668636"
      ],
      "text/plain": [
       "[1] 0.7720721"
      ]
     },
     "metadata": {},
     "output_type": "display_data"
    },
    {
     "data": {
      "text/html": [
       "0.654652349650921"
      ],
      "text/latex": [
       "0.654652349650921"
      ],
      "text/markdown": [
       "0.654652349650921"
      ],
      "text/plain": [
       "[1] 0.6546523"
      ]
     },
     "metadata": {},
     "output_type": "display_data"
    },
    {
     "data": {
      "text/html": [
       "0.754070608033009"
      ],
      "text/latex": [
       "0.754070608033009"
      ],
      "text/markdown": [
       "0.754070608033009"
      ],
      "text/plain": [
       "[1] 0.7540706"
      ]
     },
     "metadata": {},
     "output_type": "display_data"
    }
   ],
   "source": [
    "factor1alpha$total$raw_alpha\n",
    "factor2alpha$total$raw_alpha\n",
    "factor3alpha$total$raw_alpha\n",
    "factor4alpha$total$raw_alpha\n"
   ]
  },
  {
   "cell_type": "markdown",
   "id": "45bad90c",
   "metadata": {},
   "source": [
    "Factor1\t=Nutritional Value\t=Filling, Natural, Fibre, Satisfying, Energy, Health, Regular, Quality and Nutritious\n",
    "\n",
    "Factor2\t=Fat Content=\tSweet, Salt, Calories, Sugar and Process\n",
    "\n",
    "Factor3 =\tValue for money=\tEasy, Kids, Economical and Family\n",
    "\n",
    "Factor4\t= Taste & Texture=\tFun, Soggy, Plain, Crisp, Fruit, Treat and Boring\n"
   ]
  },
  {
   "cell_type": "markdown",
   "id": "65853ca1",
   "metadata": {},
   "source": [
    "# 8.\tCreating Average Factor Scores grouped by the cereal"
   ]
  },
  {
   "cell_type": "code",
   "execution_count": 59,
   "id": "08273235",
   "metadata": {},
   "outputs": [
    {
     "data": {
      "text/html": [
       "<table>\n",
       "<thead><tr><th scope=col>Group.1</th><th scope=col>Nutritional Value</th><th scope=col>Fat Content</th><th scope=col>Value for money</th><th scope=col>Taste &amp; Texture</th></tr></thead>\n",
       "<tbody>\n",
       "\t<tr><td>AllBran    </td><td>3.9        </td><td>2.2        </td><td>3.4        </td><td>2.0        </td></tr>\n",
       "\t<tr><td>CMuesli    </td><td>4.0        </td><td>2.8        </td><td>3.8        </td><td>2.5        </td></tr>\n",
       "\t<tr><td>CornFlakes </td><td>3.3        </td><td>2.7        </td><td>4.2        </td><td>2.3        </td></tr>\n",
       "\t<tr><td>JustRight  </td><td>3.6        </td><td>2.7        </td><td>3.5        </td><td>2.4        </td></tr>\n",
       "\t<tr><td>Komplete   </td><td>4.0        </td><td>2.6        </td><td>3.0        </td><td>2.5        </td></tr>\n",
       "\t<tr><td>NutriGrain </td><td>3.4        </td><td>3.1        </td><td>4.1        </td><td>2.5        </td></tr>\n",
       "\t<tr><td>PMuesli    </td><td>4.1        </td><td>2.9        </td><td>3.6        </td><td>2.6        </td></tr>\n",
       "\t<tr><td>RiceBubbles</td><td>2.9        </td><td>2.2        </td><td>4.3        </td><td>2.4        </td></tr>\n",
       "\t<tr><td>SpecialK   </td><td>3.5        </td><td>2.3        </td><td>4.0        </td><td>2.3        </td></tr>\n",
       "\t<tr><td>Sustain    </td><td>4.2        </td><td>2.2        </td><td>3.6        </td><td>2.7        </td></tr>\n",
       "\t<tr><td>Vitabrit   </td><td>3.9        </td><td>1.9        </td><td>4.1        </td><td>2.2        </td></tr>\n",
       "\t<tr><td>Weetabix   </td><td>3.9        </td><td>2.1        </td><td>3.9        </td><td>2.1        </td></tr>\n",
       "</tbody>\n",
       "</table>\n"
      ],
      "text/latex": [
       "\\begin{tabular}{r|lllll}\n",
       " Group.1 & Nutritional Value & Fat Content & Value for money & Taste \\& Texture\\\\\n",
       "\\hline\n",
       "\t AllBran     & 3.9         & 2.2         & 3.4         & 2.0        \\\\\n",
       "\t CMuesli     & 4.0         & 2.8         & 3.8         & 2.5        \\\\\n",
       "\t CornFlakes  & 3.3         & 2.7         & 4.2         & 2.3        \\\\\n",
       "\t JustRight   & 3.6         & 2.7         & 3.5         & 2.4        \\\\\n",
       "\t Komplete    & 4.0         & 2.6         & 3.0         & 2.5        \\\\\n",
       "\t NutriGrain  & 3.4         & 3.1         & 4.1         & 2.5        \\\\\n",
       "\t PMuesli     & 4.1         & 2.9         & 3.6         & 2.6        \\\\\n",
       "\t RiceBubbles & 2.9         & 2.2         & 4.3         & 2.4        \\\\\n",
       "\t SpecialK    & 3.5         & 2.3         & 4.0         & 2.3        \\\\\n",
       "\t Sustain     & 4.2         & 2.2         & 3.6         & 2.7        \\\\\n",
       "\t Vitabrit    & 3.9         & 1.9         & 4.1         & 2.2        \\\\\n",
       "\t Weetabix    & 3.9         & 2.1         & 3.9         & 2.1        \\\\\n",
       "\\end{tabular}\n"
      ],
      "text/markdown": [
       "\n",
       "| Group.1 | Nutritional Value | Fat Content | Value for money | Taste & Texture |\n",
       "|---|---|---|---|---|\n",
       "| AllBran     | 3.9         | 2.2         | 3.4         | 2.0         |\n",
       "| CMuesli     | 4.0         | 2.8         | 3.8         | 2.5         |\n",
       "| CornFlakes  | 3.3         | 2.7         | 4.2         | 2.3         |\n",
       "| JustRight   | 3.6         | 2.7         | 3.5         | 2.4         |\n",
       "| Komplete    | 4.0         | 2.6         | 3.0         | 2.5         |\n",
       "| NutriGrain  | 3.4         | 3.1         | 4.1         | 2.5         |\n",
       "| PMuesli     | 4.1         | 2.9         | 3.6         | 2.6         |\n",
       "| RiceBubbles | 2.9         | 2.2         | 4.3         | 2.4         |\n",
       "| SpecialK    | 3.5         | 2.3         | 4.0         | 2.3         |\n",
       "| Sustain     | 4.2         | 2.2         | 3.6         | 2.7         |\n",
       "| Vitabrit    | 3.9         | 1.9         | 4.1         | 2.2         |\n",
       "| Weetabix    | 3.9         | 2.1         | 3.9         | 2.1         |\n",
       "\n"
      ],
      "text/plain": [
       "   Group.1     Nutritional Value Fat Content Value for money Taste & Texture\n",
       "1  AllBran     3.9               2.2         3.4             2.0            \n",
       "2  CMuesli     4.0               2.8         3.8             2.5            \n",
       "3  CornFlakes  3.3               2.7         4.2             2.3            \n",
       "4  JustRight   3.6               2.7         3.5             2.4            \n",
       "5  Komplete    4.0               2.6         3.0             2.5            \n",
       "6  NutriGrain  3.4               3.1         4.1             2.5            \n",
       "7  PMuesli     4.1               2.9         3.6             2.6            \n",
       "8  RiceBubbles 2.9               2.2         4.3             2.4            \n",
       "9  SpecialK    3.5               2.3         4.0             2.3            \n",
       "10 Sustain     4.2               2.2         3.6             2.7            \n",
       "11 Vitabrit    3.9               1.9         4.1             2.2            \n",
       "12 Weetabix    3.9               2.1         3.9             2.1            "
      ]
     },
     "metadata": {},
     "output_type": "display_data"
    }
   ],
   "source": [
    "cereal1$factor1Score <- apply(cereal1[,factor1],1,mean)\n",
    "cereal1$factor2Score <- apply(cereal1[,factor2],1,mean)\n",
    "cereal1$factor3Score <- apply(cereal1[,factor3],1,mean)\n",
    "cereal1$factor4Score <- apply(cereal1[,factor4],1,mean)\n",
    "colnames(cereal1)[27:30] <-c(\"Nutritional Value\", \"Fat Content\", \"Value for money\", \"Taste & Texture\")\n",
    "aggregateCereal<-aggregate(cereal1[,27:30],  list(cereal1[,1]), mean)\n",
    "format(aggregateCereal, digits = 2)\n"
   ]
  },
  {
   "cell_type": "code",
   "execution_count": null,
   "id": "acec0967",
   "metadata": {},
   "outputs": [],
   "source": []
  }
 ],
 "metadata": {
  "kernelspec": {
   "display_name": "R",
   "language": "R",
   "name": "ir"
  },
  "language_info": {
   "codemirror_mode": "r",
   "file_extension": ".r",
   "mimetype": "text/x-r-source",
   "name": "R",
   "pygments_lexer": "r",
   "version": "3.6.1"
  }
 },
 "nbformat": 4,
 "nbformat_minor": 5
}
