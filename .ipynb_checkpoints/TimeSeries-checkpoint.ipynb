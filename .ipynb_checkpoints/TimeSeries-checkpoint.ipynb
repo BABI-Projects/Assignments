{
 "cells": [
  {
   "cell_type": "markdown",
   "id": "1e027684",
   "metadata": {},
   "source": [
    "# Problem Statement "
   ]
  },
  {
   "cell_type": "markdown",
   "id": "e220bf6e",
   "metadata": {},
   "source": [
    "Based on quarterly beer sales data, need to predict next 2 years sales; \n",
    "\n",
    "Part A)\n",
    "\n",
    "Using the Winter-Holts methods and model the data and predict for the next 2 years. Your submission should contain the complete modeling steps with explanations. Include pictures and R-code where applicable.\n",
    "\n",
    "Part B)\n",
    "\n",
    "Using the ARIMA method models the data and predict for the next 2 years. Your submissions should contain the complete modeling steps with explanations. Include pictures and R-code where applicable.\t\n"
   ]
  },
  {
   "cell_type": "markdown",
   "id": "9ceb2535",
   "metadata": {},
   "source": [
    "## Holts-winters method"
   ]
  },
  {
   "cell_type": "markdown",
   "id": "3af456d7",
   "metadata": {},
   "source": [
    "### Decomposing beer sales quarterly time-series data"
   ]
  },
  {
   "cell_type": "markdown",
   "id": "95825c74",
   "metadata": {},
   "source": [
    "Holt-winters method is an exponential smoothing approach for handling seasonal and trending data. Generally two types of models can be used for modeling the time series:\n",
    "\n",
    "a)\tAdditive model  = Trend + Seasonality + Random\n",
    "\n",
    "b)\tMultiplicative model  = Trend *Seasonality*Random\n",
    "\n",
    "Following steps are needed to be executed to predict the beer sales data for next two year:\n"
   ]
  },
  {
   "cell_type": "markdown",
   "id": "89dd14ea",
   "metadata": {},
   "source": [
    "### Identify additive vs. multiplicative method"
   ]
  },
  {
   "cell_type": "code",
   "execution_count": 60,
   "id": "f1665a23",
   "metadata": {},
   "outputs": [
    {
     "data": {
      "text/html": [
       "<table>\n",
       "<thead><tr><th scope=col>OzBeer</th></tr></thead>\n",
       "<tbody>\n",
       "\t<tr><td>284.4</td></tr>\n",
       "\t<tr><td>212.8</td></tr>\n",
       "\t<tr><td>226.9</td></tr>\n",
       "\t<tr><td>308.4</td></tr>\n",
       "\t<tr><td>262.0</td></tr>\n",
       "\t<tr><td>227.9</td></tr>\n",
       "</tbody>\n",
       "</table>\n"
      ],
      "text/latex": [
       "\\begin{tabular}{r|l}\n",
       " OzBeer\\\\\n",
       "\\hline\n",
       "\t 284.4\\\\\n",
       "\t 212.8\\\\\n",
       "\t 226.9\\\\\n",
       "\t 308.4\\\\\n",
       "\t 262.0\\\\\n",
       "\t 227.9\\\\\n",
       "\\end{tabular}\n"
      ],
      "text/markdown": [
       "\n",
       "| OzBeer |\n",
       "|---|\n",
       "| 284.4 |\n",
       "| 212.8 |\n",
       "| 226.9 |\n",
       "| 308.4 |\n",
       "| 262.0 |\n",
       "| 227.9 |\n",
       "\n"
      ],
      "text/plain": [
       "  OzBeer\n",
       "1 284.4 \n",
       "2 212.8 \n",
       "3 226.9 \n",
       "4 308.4 \n",
       "5 262.0 \n",
       "6 227.9 "
      ]
     },
     "metadata": {},
     "output_type": "display_data"
    }
   ],
   "source": [
    "beer = read.csv(\"Data/beer.csv\",1)\n",
    "head(beer)\n",
    "\n"
   ]
  },
  {
   "cell_type": "code",
   "execution_count": 61,
   "id": "aae4f053",
   "metadata": {},
   "outputs": [
    {
     "name": "stderr",
     "output_type": "stream",
     "text": [
      "The following object is masked from beer (pos = 3):\n",
      "\n",
      "    OzBeer\n",
      "\n",
      "The following object is masked from beer (pos = 6):\n",
      "\n",
      "    OzBeer\n",
      "\n",
      "The following object is masked from beer (pos = 7):\n",
      "\n",
      "    OzBeer\n",
      "\n"
     ]
    },
    {
     "data": {
      "image/png": "[encoded data removed]",
      "text/plain": [
       "Plot with title \"Quarterly Beer sales\""
      ]
     },
     "metadata": {},
     "output_type": "display_data"
    }
   ],
   "source": [
    "attach(beer)\n",
    "ts_beer=ts(beer, frequency = 4)\n",
    "plot(ts_beer, col=\"blue\", main=\"Quarterly Beer sales\")"
   ]
  },
  {
   "cell_type": "markdown",
   "id": "c5b8c82a",
   "metadata": {},
   "source": [
    "The seasonal variation looks constant and doesn’t change over the time, hence we can use additive model."
   ]
  },
  {
   "cell_type": "markdown",
   "id": "5dcb60e0",
   "metadata": {},
   "source": [
    "###  Detecting the seasonality "
   ]
  },
  {
   "cell_type": "markdown",
   "id": "9dd00bef",
   "metadata": {},
   "source": [
    "Based on plotting in above step, it looks like there is a seasonal pattern exists but it is vital to use a moving window of the exact size of the seasonality. Therefore, to decompose a time series we need to know the seasonality period: weekly, monthly, etc."
   ]
  },
  {
   "cell_type": "code",
   "execution_count": 62,
   "id": "1106af2c",
   "metadata": {},
   "outputs": [
    {
     "data": {
      "text/html": [
       "<ol class=list-inline>\n",
       "\t<li>72</li>\n",
       "\t<li>4</li>\n",
       "</ol>\n"
      ],
      "text/latex": [
       "\\begin{enumerate*}\n",
       "\\item 72\n",
       "\\item 4\n",
       "\\end{enumerate*}\n"
      ],
      "text/markdown": [
       "1. 72\n",
       "2. 4\n",
       "\n",
       "\n"
      ],
      "text/plain": [
       "[1] 72  4"
      ]
     },
     "metadata": {},
     "output_type": "display_data"
    },
    {
     "data": {
      "image/png": "[encoded data removed]",
      "text/plain": [
       "plot without title"
      ]
     },
     "metadata": {},
     "output_type": "display_data"
    }
   ],
   "source": [
    "library(TSA)\n",
    "p=periodogram(OzBeer)\n",
    "\n",
    "dd=data.frame(freq=p$freq, spec=p$spec)\n",
    "order=dd[order(-dd$spec),]\n",
    "top2=head(order,2)\n",
    "time = 1/top2$freq\n",
    "time\n"
   ]
  },
  {
   "cell_type": "markdown",
   "id": "d5221225",
   "metadata": {},
   "source": [
    "From this plot, the time period is identified as 0.25 and the frequency is calculated as 1/0.25 = 4"
   ]
  },
  {
   "cell_type": "markdown",
   "id": "11baff91",
   "metadata": {},
   "source": [
    "###\tVisually Identification of Seasonality"
   ]
  },
  {
   "cell_type": "markdown",
   "id": "a4f742f0",
   "metadata": {},
   "source": [
    "###  Detecting and Visualizing the trend"
   ]
  },
  {
   "cell_type": "markdown",
   "id": "8db8055e",
   "metadata": {},
   "source": [
    "Clearly there is a trend (in upward direction) that the sales of beer over the year have increased. "
   ]
  },
  {
   "cell_type": "code",
   "execution_count": 2,
   "id": "bb50cd4f",
   "metadata": {},
   "outputs": [
    {
     "name": "stderr",
     "output_type": "stream",
     "text": [
      "Warning message:\n",
      "\"package 'forecast' was built under R version 3.6.3\""
     ]
    },
    {
     "ename": "ERROR",
     "evalue": "Error: package or namespace load failed for 'forecast' in loadNamespace(j <- i[[1L]], c(lib.loc, .libPaths()), versionCheck = vI[[j]]):\n there is no package called 'rlang'\n",
     "output_type": "error",
     "traceback": [
      "Error: package or namespace load failed for 'forecast' in loadNamespace(j <- i[[1L]], c(lib.loc, .libPaths()), versionCheck = vI[[j]]):\n there is no package called 'rlang'\nTraceback:\n",
      "1. library(forecast)",
      "2. tryCatch({\n .     attr(package, \"LibPath\") <- which.lib.loc\n .     ns <- loadNamespace(package, lib.loc)\n .     env <- attachNamespace(ns, pos = pos, deps, exclude, include.only)\n . }, error = function(e) {\n .     P <- if (!is.null(cc <- conditionCall(e))) \n .         paste(\" in\", deparse(cc)[1L])\n .     else \"\"\n .     msg <- gettextf(\"package or namespace load failed for %s%s:\\n %s\", \n .         sQuote(package), P, conditionMessage(e))\n .     if (logical.return) \n .         message(paste(\"Error:\", msg), domain = NA)\n .     else stop(msg, call. = FALSE, domain = NA)\n . })",
      "3. tryCatchList(expr, classes, parentenv, handlers)",
      "4. tryCatchOne(expr, names, parentenv, handlers[[1L]])",
      "5. value[[3L]](cond)",
      "6. stop(msg, call. = FALSE, domain = NA)"
     ]
    }
   ],
   "source": [
    "\n",
    "library(forecast)\n",
    "library(ggplot2)\n",
    "\n"
   ]
  },
  {
   "cell_type": "code",
   "execution_count": null,
   "id": "4cb10131",
   "metadata": {},
   "outputs": [],
   "source": []
  },
  {
   "cell_type": "code",
   "execution_count": 66,
   "id": "992b5dd8",
   "metadata": {},
   "outputs": [
    {
     "ename": "ERROR",
     "evalue": "Error in ma(ts_beer, order = 4, centre = T): could not find function \"ma\"\n",
     "output_type": "error",
     "traceback": [
      "Error in ma(ts_beer, order = 4, centre = T): could not find function \"ma\"\nTraceback:\n"
     ]
    }
   ],
   "source": [
    "beer_trend=ma(ts_beer,order = 4,centre = T)\n"
   ]
  },
  {
   "cell_type": "code",
   "execution_count": 6,
   "id": "3ce59733",
   "metadata": {},
   "outputs": [
    {
     "ename": "ERROR",
     "evalue": "Error in plot(ts_beer, col = \"blue\", main = \"Quarterly Beer sales Trend\"): object 'ts_beer' not found\n",
     "output_type": "error",
     "traceback": [
      "Error in plot(ts_beer, col = \"blue\", main = \"Quarterly Beer sales Trend\"): object 'ts_beer' not found\nTraceback:\n",
      "1. plot(ts_beer, col = \"blue\", main = \"Quarterly Beer sales Trend\")"
     ]
    }
   ],
   "source": [
    "plot(ts_beer, col=\"blue\", main=\"Quarterly Beer sales Trend\")\n",
    "\n",
    "lines(beer_trend,col=\"green\")"
   ]
  },
  {
   "cell_type": "code",
   "execution_count": 7,
   "id": "5cd28d5c",
   "metadata": {},
   "outputs": [
    {
     "ename": "ERROR",
     "evalue": "Error in plot(beer_trend, col = \"green\", main = \"Trend Line in Time series\"): object 'beer_trend' not found\n",
     "output_type": "error",
     "traceback": [
      "Error in plot(beer_trend, col = \"green\", main = \"Trend Line in Time series\"): object 'beer_trend' not found\nTraceback:\n",
      "1. plot(beer_trend, col = \"green\", main = \"Trend Line in Time series\")"
     ]
    }
   ],
   "source": [
    "\n",
    "plot(beer_trend, col=\"green\", main=\"Trend Line in Time series\")\n"
   ]
  },
  {
   "cell_type": "code",
   "execution_count": null,
   "id": "da7b3404",
   "metadata": {},
   "outputs": [],
   "source": []
  }
 ],
 "metadata": {
  "kernelspec": {
   "display_name": "R",
   "language": "R",
   "name": "ir"
  },
  "language_info": {
   "codemirror_mode": "r",
   "file_extension": ".r",
   "mimetype": "text/x-r-source",
   "name": "R",
   "pygments_lexer": "r",
   "version": "3.6.1"
  }
 },
 "nbformat": 4,
 "nbformat_minor": 5
}
