{
 "cells": [
  {
   "cell_type": "markdown",
   "id": "14b7dec0",
   "metadata": {},
   "source": [
    "# Problem Statement"
   ]
  },
  {
   "cell_type": "markdown",
   "id": "ab27f796",
   "metadata": {},
   "source": [
    "__Leslie Salt Data Set__\n",
    "\n",
    "In 1968, the city of Mountain View, California, began the necessary legal proceedings to acquire a parcel of land owned by the Leslie Sal Company. The Leslie property contained 246.8 acres and was located right on the San Francisco Bay. The land had been used for salt evaporation and had an elevation of exactly sea level. However, the property was diked so that the waters from the bay park were kept out. The city of Mountain View intended to fill the property and use it for a city park. \n",
    "Ultimately, it fell into the courts to determine a fair market value for the property. Appraisers were hired, but what made the processes difficult was that there were few sales of byland property and none of them corresponded exactly to the characteristics of the Leslie property. The experts involved decided to build a regression model to better understand the factors that might influence market valuation. They collected data on 31 byland properties that were sold during the previous 10 years. In addition to the transaction price for each property, they collected data oina large number of other factors, including size, time of sale, elevation, location, and access to sewers. A listing of these data, including only those variables deemed relevant for this exercise. A description of the variables is provided below\n"
   ]
  },
  {
   "cell_type": "markdown",
   "id": "215d69e7",
   "metadata": {},
   "source": [
    "\n",
    "Price- \tSales price in $000 per acre \n",
    "\n",
    "County- \tSan Mateo=0, Santa Clara =1 \n",
    "\n",
    "Size  -Size of the property in acres \n",
    "\n",
    "Elevation- \tAverage Elevation in foot above sea level \n",
    "\n",
    "Sewer -\tDistance (in feet) to nearest sewer connection \n",
    "\n",
    "Date - \tDate of sale counting backward from current time (in months) \n",
    "\n",
    "Flood -\tSubject to flooding by tidal action =1; otherwise =0 \n",
    "\n",
    "Distance -\tDistance in miles from Leslie Property (in almost all cases, this is toward San Francisco \n"
   ]
  },
  {
   "cell_type": "markdown",
   "id": "9e0f84fc",
   "metadata": {},
   "source": [
    "Discuss and Answer the following questions: \n",
    "\n",
    "1. What is the nature of each of the variables? Which variable is dependent variable and what are the independent variables in the model? \n",
    "\n",
    "2. Check whether the variables require any transformation individually \n",
    "\n",
    "3. Set up a regression equation, run the model and discuss your results \n"
   ]
  },
  {
   "cell_type": "code",
   "execution_count": 3,
   "id": "bdd5b3b3",
   "metadata": {},
   "outputs": [
    {
     "name": "stderr",
     "output_type": "stream",
     "text": [
      "Warning message:\n",
      "\"package 'xlsx' was built under R version 3.6.3\""
     ]
    },
    {
     "name": "stdout",
     "output_type": "stream",
     "text": [
      "'data.frame':\t31 obs. of  8 variables:\n",
      " $ Price    : num  4.5 10.6 1.7 5 5 3.3 5.7 6.2 19.4 3.2 ...\n",
      " $ County   : num  1 1 0 0 0 1 1 1 1 1 ...\n",
      " $ Size     : num  138.4 52 16.1 1695.2 845 ...\n",
      " $ Elevation: num  10 4 0 1 1 2 4 4 20 0 ...\n",
      " $ Sewer    : num  3000 0 2640 3500 1000 10000 0 0 1300 6000 ...\n",
      " $ Date     : num  -103 -103 -98 -93 -92 -86 -68 -64 -63 -62 ...\n",
      " $ Flood    : num  0 0 1 0 1 0 0 0 0 0 ...\n",
      " $ Distance : num  0.3 2.5 10.3 14 14 0 0 0 1.2 0 ...\n"
     ]
    }
   ],
   "source": [
    "library(xlsx)\n",
    "data <- read.xlsx(\"Data/Dataset_LeslieSalt.xlsx\",1)\n",
    "attach(data)\n",
    "str(data)\n"
   ]
  },
  {
   "cell_type": "markdown",
   "id": "99c159f8",
   "metadata": {},
   "source": [
    "## Feature Engineering"
   ]
  },
  {
   "cell_type": "code",
   "execution_count": 4,
   "id": "83363375",
   "metadata": {},
   "outputs": [
    {
     "data": {
      "text/plain": [
       "     Price               County        Size           Elevation     \n",
       " Min.   : 1.70   San Mateo  :12   Min.   :   6.90   Min.   : 0.000  \n",
       " 1st Qu.: 5.35   Santa Clara:19   1st Qu.:  20.35   1st Qu.: 2.000  \n",
       " Median :11.70                    Median :  51.40   Median : 4.000  \n",
       " Mean   :11.95                    Mean   : 139.97   Mean   : 4.645  \n",
       " 3rd Qu.:16.05                    3rd Qu.: 104.10   3rd Qu.: 7.000  \n",
       " Max.   :37.20                    Max.   :1695.20   Max.   :20.000  \n",
       "     Sewer            Date         Flood       Distance     \n",
       " Min.   :    0   Min.   :-103.00   No :26   Min.   : 0.000  \n",
       " 1st Qu.:    0   1st Qu.: -63.50   Yes: 5   1st Qu.: 0.850  \n",
       " Median :  900   Median : -59.00            Median : 4.900  \n",
       " Mean   : 1981   Mean   : -58.65            Mean   : 5.132  \n",
       " 3rd Qu.: 3450   3rd Qu.: -51.00            3rd Qu.: 5.500  \n",
       " Max.   :10000   Max.   :  -4.00            Max.   :16.500  "
      ]
     },
     "metadata": {},
     "output_type": "display_data"
    }
   ],
   "source": [
    "data$County <- factor(data$County,  levels=c(\"0\",\"1\"), labels=c(\"San Mateo\", \"Santa Clara\" ))\n",
    "data$Flood <- factor(data$Flood,  levels=c(\"0\",\"1\"), labels=c(\"No\", \"Yes\" ))\n",
    "summary(data)\n"
   ]
  },
  {
   "cell_type": "code",
   "execution_count": 5,
   "id": "f2031b4f",
   "metadata": {},
   "outputs": [
    {
     "data": {
      "image/png": "[encoded data removed]",
      "text/plain": [
       "Plot with title \"Histogram of Price\""
      ]
     },
     "metadata": {},
     "output_type": "display_data"
    }
   ],
   "source": [
    "hist(Price)"
   ]
  },
  {
   "cell_type": "markdown",
   "id": "5312169d",
   "metadata": {},
   "source": [
    "From the above histogram, Price (dependent variable) is right skewed. Such skewness is problematic, violates the assumptions of regression model.\n",
    "\n",
    "To reduce skewness, transform the dependent variable to log form\n"
   ]
  },
  {
   "cell_type": "code",
   "execution_count": 6,
   "id": "58a6b3d4",
   "metadata": {},
   "outputs": [
    {
     "data": {
      "image/png": "[encoded data removed]",
      "text/plain": [
       "Plot with title \"Histogram of data$LogPrice\""
      ]
     },
     "metadata": {},
     "output_type": "display_data"
    }
   ],
   "source": [
    "data$LogPrice=log(Price)\n",
    "hist(data$LogPrice)\n"
   ]
  },
  {
   "cell_type": "code",
   "execution_count": 8,
   "id": "73008bfd",
   "metadata": {},
   "outputs": [
    {
     "data": {
      "image/png": "[encoded data removed]",
      "text/plain": [
       "plot without title"
      ]
     },
     "metadata": {},
     "output_type": "display_data"
    }
   ],
   "source": [
    "plot(LogPrice~Date,data=data)"
   ]
  },
  {
   "cell_type": "markdown",
   "id": "b85b6f96",
   "metadata": {},
   "source": [
    "Above diagram shows that, price increases as time increases. Properties which are bought recently, bought with high price. Price increases overtime. Hence Date having significant impact on price."
   ]
  },
  {
   "cell_type": "code",
   "execution_count": 9,
   "id": "bc67e215",
   "metadata": {},
   "outputs": [
    {
     "data": {
      "image/png": "[encoded data removed]",
      "text/plain": [
       "plot without title"
      ]
     },
     "metadata": {},
     "output_type": "display_data"
    }
   ],
   "source": [
    "plot(Distance~County,data=data)"
   ]
  },
  {
   "cell_type": "markdown",
   "id": "2292eb7a",
   "metadata": {},
   "source": [
    "Above box plot shows shat Leslie property is very near to County ‘Santa Clara’."
   ]
  },
  {
   "cell_type": "code",
   "execution_count": 10,
   "id": "205f5a61",
   "metadata": {},
   "outputs": [
    {
     "data": {
      "image/png": "[encoded data removed]",
      "text/plain": [
       "plot without title"
      ]
     },
     "metadata": {},
     "output_type": "display_data"
    }
   ],
   "source": [
    "plot(LogPrice~Sewer,data=data,pch=(1:2)[County])"
   ]
  },
  {
   "cell_type": "markdown",
   "id": "e9c4fc8b",
   "metadata": {},
   "source": [
    "From above scatter diagram, distance to Sewer connection doesn’t have much importance.  Property for which is having sewer connection 4000 feet distance, is also priced equivalent to property with sewer connection less than 500 feet distance. However.  if sewer connection is more than 5000 feet distance, though they property resides in highly elevated area (no flooding) , it is priced low. We may include this variable or not depends on how much it improves the model."
   ]
  },
  {
   "cell_type": "code",
   "execution_count": 12,
   "id": "70912239",
   "metadata": {},
   "outputs": [
    {
     "data": {
      "image/png": "[encoded data removed]",
      "text/plain": [
       "plot without title"
      ]
     },
     "metadata": {},
     "output_type": "display_data"
    }
   ],
   "source": [
    "plot(LogPrice~Size,data=data,pch=(1:2)[County])"
   ]
  },
  {
   "cell_type": "markdown",
   "id": "fa6e6eef",
   "metadata": {},
   "source": [
    "From the above scatter diagram, size doesn’t have much importance on pricing.  All most 90% of properties are is same size. So, including size in our regression model will not give significant improvement in the model."
   ]
  },
  {
   "cell_type": "code",
   "execution_count": 13,
   "id": "6f9bdbcc",
   "metadata": {},
   "outputs": [
    {
     "data": {
      "image/png": "[encoded data removed]",
      "text/plain": [
       "plot without title"
      ]
     },
     "metadata": {},
     "output_type": "display_data"
    }
   ],
   "source": [
    "plot(Elevation~County,data=data)"
   ]
  },
  {
   "cell_type": "markdown",
   "id": "3b26ab82",
   "metadata": {},
   "source": [
    "Above diagram depicts that, ‘Santa Clara’ county is highly elevated compare to ‘San Mateo’. Leslie property is near to Santa Clara."
   ]
  },
  {
   "cell_type": "code",
   "execution_count": 14,
   "id": "99a9ea70",
   "metadata": {},
   "outputs": [
    {
     "data": {
      "image/png": "[encoded data removed]",
      "text/plain": [
       "Plot with title \"\""
      ]
     },
     "metadata": {},
     "output_type": "display_data"
    }
   ],
   "source": [
    "plot(Flood~County,data=data)"
   ]
  },
  {
   "cell_type": "markdown",
   "id": "6debc37f",
   "metadata": {},
   "source": [
    "Elevation of Santa Clara is high, so property in ‘Santa-Clara’ is not subject to flooding compare to ‘San Mateo’."
   ]
  },
  {
   "cell_type": "code",
   "execution_count": 15,
   "id": "18e145c3",
   "metadata": {},
   "outputs": [
    {
     "data": {
      "image/png": "[encoded data removed]",
      "text/plain": [
       "plot without title"
      ]
     },
     "metadata": {},
     "output_type": "display_data"
    }
   ],
   "source": [
    "plot(Elevation~Flood,data=data,pch=(1:2)[County])"
   ]
  },
  {
   "cell_type": "markdown",
   "id": "482d1ead",
   "metadata": {},
   "source": [
    "Highly elevated property is not subject to flooding."
   ]
  },
  {
   "cell_type": "code",
   "execution_count": 16,
   "id": "d8c76c7a",
   "metadata": {},
   "outputs": [
    {
     "data": {
      "image/png": "[encoded data removed]",
      "text/plain": [
       "plot without title"
      ]
     },
     "metadata": {},
     "output_type": "display_data"
    },
    {
     "data": {
      "image/png": "[encoded data removed]",
      "text/plain": [
       "plot without title"
      ]
     },
     "metadata": {},
     "output_type": "display_data"
    }
   ],
   "source": [
    "plot(LogPrice~Elevation+County,data=data,pch=(1:2)[County])"
   ]
  },
  {
   "cell_type": "markdown",
   "id": "2fe2d39b",
   "metadata": {},
   "source": [
    "Above diagram shows that there is greater percentage of increase in price for each additional foot of elevation. However, slope varies based on county. There is ‘x’ percentage increase in the for 1 feet increase in elevation level if the property in ‘Santa Clara’. However, ‘y’ percentage increase in the for 1 feet increase in elevation level if the property in ‘San Mateo’  \n",
    "Variation in price is not only effect on elevation alone. It is combination of elevation and county.\n"
   ]
  },
  {
   "cell_type": "code",
   "execution_count": 17,
   "id": "c54b5649",
   "metadata": {},
   "outputs": [
    {
     "data": {
      "image/png": "[encoded data removed]",
      "text/plain": [
       "plot without title"
      ]
     },
     "metadata": {},
     "output_type": "display_data"
    }
   ],
   "source": [
    "plot(LogPrice~Distance,data=data,pch=(1:2)[County])\n",
    "legend(\"topright\",legend=c(\"San Mateo\",\"Santa Clara\"),pch=1:2,bty=\"n\")\n"
   ]
  },
  {
   "cell_type": "markdown",
   "id": "1308925c",
   "metadata": {},
   "source": [
    "Though above graph & correlation matrix shows that distance is not having much impact on price, it appears to play role. Due to pairwise correlation between Elevation & Flood (Price Vs Elevation, Price Vs Flood), impact of distance variable on price is reduced. It would be better to consider distance variable. We can remove this variable from the model, if it is providing the improvement in the model."
   ]
  },
  {
   "cell_type": "markdown",
   "id": "1afd7968",
   "metadata": {},
   "source": [
    "## Regression Models"
   ]
  },
  {
   "cell_type": "markdown",
   "id": "28e14476",
   "metadata": {},
   "source": [
    "### Full Model"
   ]
  },
  {
   "cell_type": "code",
   "execution_count": 19,
   "id": "c102bf74",
   "metadata": {},
   "outputs": [
    {
     "data": {
      "text/plain": [
       "\n",
       "Call:\n",
       "lm(formula = LogPrice ~ Sewer + County + Size + Elevation + Date + \n",
       "    Flood + Distance, data = data)\n",
       "\n",
       "Residuals:\n",
       "     Min       1Q   Median       3Q      Max \n",
       "-0.41605 -0.22833  0.01037  0.22662  0.63418 \n",
       "\n",
       "Coefficients:\n",
       "                    Estimate Std. Error t value Pr(>|t|)    \n",
       "(Intercept)        3.099e+00  2.815e-01  11.006 1.22e-10 ***\n",
       "Sewer             -8.338e-05  3.066e-05  -2.720 0.012214 *  \n",
       "CountySanta Clara -1.596e-01  2.685e-01  -0.594 0.558013    \n",
       "Size              -2.578e-04  2.574e-04  -1.002 0.327001    \n",
       "Elevation          5.053e-02  1.754e-02   2.880 0.008448 ** \n",
       "Date               1.479e-02  3.577e-03   4.135 0.000403 ***\n",
       "FloodYes          -9.819e-01  2.198e-01  -4.468 0.000175 ***\n",
       "Distance           4.889e-02  2.496e-02   1.958 0.062407 .  \n",
       "---\n",
       "Signif. codes:  0 '***' 0.001 '**' 0.01 '*' 0.05 '.' 0.1 ' ' 1\n",
       "\n",
       "Residual standard error: 0.3258 on 23 degrees of freedom\n",
       "Multiple R-squared:  0.8416,\tAdjusted R-squared:  0.7934 \n",
       "F-statistic: 17.46 on 7 and 23 DF,  p-value: 8.112e-08\n"
      ]
     },
     "metadata": {},
     "output_type": "display_data"
    }
   ],
   "source": [
    "fullmodel=lm(LogPrice ~ Sewer + County + Size + Elevation + Date + Flood + Distance, data = data)\n",
    "summary(fullmodel)\n"
   ]
  },
  {
   "cell_type": "markdown",
   "id": "6d5323a0",
   "metadata": {},
   "source": [
    "P-value is less than 0.05 however adjusted R square (0.79) is less than Multiple R Square (0.84). As size doesn’t have much importance with respect to p -value & explanation from above scatter diagrams, build model without size"
   ]
  },
  {
   "cell_type": "markdown",
   "id": "103708cf",
   "metadata": {},
   "source": [
    "### Model without Size"
   ]
  },
  {
   "cell_type": "code",
   "execution_count": 23,
   "id": "cb5d4aea",
   "metadata": {},
   "outputs": [
    {
     "data": {
      "text/plain": [
       "\n",
       "Call:\n",
       "lm(formula = LogPrice ~ Sewer + County + Elevation + Date + Flood + \n",
       "    Distance, data = data)\n",
       "\n",
       "Residuals:\n",
       "     Min       1Q   Median       3Q      Max \n",
       "-0.39640 -0.25968 -0.00964  0.23159  0.69841 \n",
       "\n",
       "Coefficients:\n",
       "                    Estimate Std. Error t value Pr(>|t|)    \n",
       "(Intercept)        3.156e+00  2.756e-01  11.453 3.26e-11 ***\n",
       "Sewer             -8.320e-05  3.066e-05  -2.714 0.012111 *  \n",
       "CountySanta Clara -1.031e-01  2.626e-01  -0.393 0.697922    \n",
       "Elevation          5.093e-02  1.754e-02   2.904 0.007792 ** \n",
       "Date               1.647e-02  3.158e-03   5.216 2.41e-05 ***\n",
       "FloodYes          -9.236e-01  2.119e-01  -4.358 0.000213 ***\n",
       "Distance           4.083e-02  2.363e-02   1.728 0.096883 .  \n",
       "---\n",
       "Signif. codes:  0 '***' 0.001 '**' 0.01 '*' 0.05 '.' 0.1 ' ' 1\n",
       "\n",
       "Residual standard error: 0.3258 on 24 degrees of freedom\n",
       "Multiple R-squared:  0.8347,\tAdjusted R-squared:  0.7934 \n",
       "F-statistic:  20.2 on 6 and 24 DF,  p-value: 2.723e-08\n"
      ]
     },
     "metadata": {},
     "output_type": "display_data"
    }
   ],
   "source": [
    "model1=lm(LogPrice ~ Sewer + County + Elevation + Date + Flood + Distance , data = data)\n",
    "summary(model1)\n"
   ]
  },
  {
   "cell_type": "markdown",
   "id": "f60ed9e3",
   "metadata": {},
   "source": [
    "### Model without Size & County"
   ]
  },
  {
   "cell_type": "code",
   "execution_count": 24,
   "id": "5ea09f4e",
   "metadata": {},
   "outputs": [
    {
     "data": {
      "text/plain": [
       "\n",
       "Call:\n",
       "lm(formula = LogPrice ~ Sewer + Elevation + Date + Flood + Distance, \n",
       "    data = data)\n",
       "\n",
       "Residuals:\n",
       "     Min       1Q   Median       3Q      Max \n",
       "-0.38511 -0.25256 -0.01794  0.20994  0.72640 \n",
       "\n",
       "Coefficients:\n",
       "              Estimate Std. Error t value Pr(>|t|)    \n",
       "(Intercept)  3.089e+00  2.115e-01  14.603 9.60e-14 ***\n",
       "Sewer       -7.859e-05  2.783e-05  -2.824  0.00919 ** \n",
       "Elevation    5.048e-02  1.720e-02   2.934  0.00707 ** \n",
       "Date         1.724e-02  2.435e-03   7.080 2.02e-07 ***\n",
       "FloodYes    -8.835e-01  1.826e-01  -4.838 5.66e-05 ***\n",
       "Distance     4.784e-02  1.521e-02   3.147  0.00424 ** \n",
       "---\n",
       "Signif. codes:  0 '***' 0.001 '**' 0.01 '*' 0.05 '.' 0.1 ' ' 1\n",
       "\n",
       "Residual standard error: 0.3203 on 25 degrees of freedom\n",
       "Multiple R-squared:  0.8336,\tAdjusted R-squared:  0.8003 \n",
       "F-statistic: 25.05 on 5 and 25 DF,  p-value: 5.474e-09\n"
      ]
     },
     "metadata": {},
     "output_type": "display_data"
    }
   ],
   "source": [
    "model9=lm(LogPrice~Sewer+Elevation+Date+Flood+Distance, data=data)\n",
    "summary(model9)\n"
   ]
  },
  {
   "cell_type": "markdown",
   "id": "ac96069b",
   "metadata": {},
   "source": [
    "After removing county, we have improvement in Adjusted R square and P value.\n",
    "\n",
    "However as explained in Plot diagram section, relationship between county and elevation having some impact on price. Hence lets build the model by adding County* Elevation and removing Elevation\n"
   ]
  },
  {
   "cell_type": "markdown",
   "id": "0464da2b",
   "metadata": {},
   "source": [
    "### Final Model"
   ]
  },
  {
   "cell_type": "code",
   "execution_count": 25,
   "id": "e64ee552",
   "metadata": {},
   "outputs": [
    {
     "data": {
      "text/plain": [
       "\n",
       "Call:\n",
       "lm(formula = LogPrice ~ Sewer + Date + Flood + Distance + County * \n",
       "    Elevation, data = data)\n",
       "\n",
       "Residuals:\n",
       "     Min       1Q   Median       3Q      Max \n",
       "-0.38108 -0.23522 -0.01244  0.16942  0.68343 \n",
       "\n",
       "Coefficients:\n",
       "                              Estimate Std. Error t value Pr(>|t|)    \n",
       "(Intercept)                  1.989e+00  4.322e-01   4.601 0.000126 ***\n",
       "Sewer                       -6.484e-05  2.664e-05  -2.434 0.023108 *  \n",
       "Date                         1.577e-02  2.689e-03   5.867 5.58e-06 ***\n",
       "FloodYes                    -5.183e-01  2.197e-01  -2.359 0.027169 *  \n",
       "Distance                     9.159e-02  2.553e-02   3.588 0.001557 ** \n",
       "CountySanta Clara            9.227e-01  3.894e-01   2.370 0.026558 *  \n",
       "Elevation                    2.691e-01  6.952e-02   3.871 0.000774 ***\n",
       "CountySanta Clara:Elevation -2.286e-01  7.116e-02  -3.213 0.003857 ** \n",
       "---\n",
       "Signif. codes:  0 '***' 0.001 '**' 0.01 '*' 0.05 '.' 0.1 ' ' 1\n",
       "\n",
       "Residual standard error: 0.2765 on 23 degrees of freedom\n",
       "Multiple R-squared:  0.8859,\tAdjusted R-squared:  0.8512 \n",
       "F-statistic: 25.51 on 7 and 23 DF,  p-value: 2.095e-09\n"
      ]
     },
     "metadata": {},
     "output_type": "display_data"
    }
   ],
   "source": [
    "model10=lm(LogPrice~Sewer+Date+Flood+Distance+County*Elevation, data=data)\n",
    "summary(model10)\n"
   ]
  },
  {
   "cell_type": "markdown",
   "id": "9f448255",
   "metadata": {},
   "source": [
    "After adding elevation and County relationship, we have significant improvement in the model."
   ]
  },
  {
   "cell_type": "markdown",
   "id": "274fe34f",
   "metadata": {},
   "source": [
    "### Residual Diagrams"
   ]
  },
  {
   "cell_type": "code",
   "execution_count": 26,
   "id": "0db31e50",
   "metadata": {},
   "outputs": [
    {
     "data": {
      "image/png": "[encoded data removed]",
      "text/plain": [
       "Plot with title \"\""
      ]
     },
     "metadata": {},
     "output_type": "display_data"
    }
   ],
   "source": [
    "par(mfrow = c(2, 2))\n",
    "plot(model10)"
   ]
  },
  {
   "cell_type": "markdown",
   "id": "cd4614bb",
   "metadata": {},
   "source": [
    "## Predict the price of Leslie Salt property"
   ]
  },
  {
   "cell_type": "markdown",
   "id": "9c9b3a81",
   "metadata": {},
   "source": [
    "County – In record 11, 12, distance mentioned as 0. Hence those property are nearby property Leslie. Both belongs to county 1. Hence, we mentioned Leslie property also ‘1’\n",
    "\n",
    "Size – 0.646 (given in the problem)\n",
    "\n",
    "Elevation –0  (property at sea leve)\n",
    "\n",
    "Sewer -0 (no data provided. Hence 0)\n",
    "\n",
    "Date – assume that property may sold in next 3 months\n",
    "\n",
    "Flood- 0 (property is diked)\n",
    "\n",
    "Distance – 0 (distance with respect to Leslie property)\n"
   ]
  },
  {
   "cell_type": "code",
   "execution_count": 28,
   "id": "2616b1f9",
   "metadata": {},
   "outputs": [
    {
     "data": {
      "text/html": [
       "<strong>32:</strong> 18.380241460385"
      ],
      "text/latex": [
       "\\textbf{32:} 18.380241460385"
      ],
      "text/markdown": [
       "**32:** 18.380241460385"
      ],
      "text/plain": [
       "      32 \n",
       "18.38024 "
      ]
     },
     "metadata": {},
     "output_type": "display_data"
    }
   ],
   "source": [
    "leslie_salt <- data.frame(0,\"Santa Clara\",246.8,0,0,0,\"No\",0,log(0))\n",
    "colnames(leslie_salt) <- c(\"Price\", \"County\", \"Size\", \"Elevation\", \"Sewer\", \"Date\", \"Flood\", \"Distance\",\"LogPrice\")\n",
    "data<-rbind(data,leslie_salt)\n",
    "leslie_salt_price <- predict(model10, newdata = data[32,])\n",
    "price=exp(leslie_salt_price)\n",
    "price\n"
   ]
  },
  {
   "cell_type": "markdown",
   "id": "ff9207bd",
   "metadata": {},
   "source": [
    "The price of Leslie Salt property is $18340/acre."
   ]
  },
  {
   "cell_type": "markdown",
   "id": "92b50dfa",
   "metadata": {},
   "source": [
    "### If property sold in another 3 months"
   ]
  },
  {
   "cell_type": "code",
   "execution_count": 29,
   "id": "a84cf4e9",
   "metadata": {},
   "outputs": [
    {
     "data": {
      "text/html": [
       "<strong>33:</strong> 19.270972186684"
      ],
      "text/latex": [
       "\\textbf{33:} 19.270972186684"
      ],
      "text/markdown": [
       "**33:** 19.270972186684"
      ],
      "text/plain": [
       "      33 \n",
       "19.27097 "
      ]
     },
     "metadata": {},
     "output_type": "display_data"
    }
   ],
   "source": [
    "leslie_salt <- data.frame(0,\"Santa Clara\",246.8,0,0,3,\"No\",0,log(0))\n",
    "colnames(leslie_salt) <- c(\"Price\", \"County\", \"Size\", \"Elevation\", \"Sewer\", \"Date\", \"Flood\", \"Distance\",\n",
    "\"LogPrice\")\n",
    "data<-rbind(data,leslie_salt)\n",
    "leslie_salt_price <- predict(model10, newdata = data[33,])\n",
    "price=exp(leslie_salt_price)\n",
    "price\n"
   ]
  },
  {
   "cell_type": "markdown",
   "id": "65794811",
   "metadata": {},
   "source": [
    "The price of Leslie Salt property is $19271/acre."
   ]
  },
  {
   "cell_type": "markdown",
   "id": "9af20f3b",
   "metadata": {},
   "source": [
    "### If property sold in another 6 months"
   ]
  },
  {
   "cell_type": "code",
   "execution_count": 30,
   "id": "83ddd15d",
   "metadata": {},
   "outputs": [
    {
     "data": {
      "text/html": [
       "<strong>34:</strong> 20.2048688979611"
      ],
      "text/latex": [
       "\\textbf{34:} 20.2048688979611"
      ],
      "text/markdown": [
       "**34:** 20.2048688979611"
      ],
      "text/plain": [
       "      34 \n",
       "20.20487 "
      ]
     },
     "metadata": {},
     "output_type": "display_data"
    }
   ],
   "source": [
    "leslie_salt <- data.frame(0,\"Santa Clara\",246.8,0,0,6,\"No\",0,log(0))\n",
    "colnames(leslie_salt) <- c(\"Price\", \"County\", \"Size\", \"Elevation\", \"Sewer\", \"Date\", \"Flood\", \"Distance\",\n",
    "\"LogPrice\")\n",
    "data<-rbind(data,leslie_salt)\n",
    "leslie_salt_price <- predict(model10, newdata = data[34,])\n",
    "price=exp(leslie_salt_price)\n",
    "price\n"
   ]
  },
  {
   "cell_type": "markdown",
   "id": "5e89192f",
   "metadata": {},
   "source": [
    "The price of Leslie Salt property is $20204/acre."
   ]
  },
  {
   "cell_type": "code",
   "execution_count": null,
   "id": "9fbb0a91",
   "metadata": {},
   "outputs": [],
   "source": []
  }
 ],
 "metadata": {
  "kernelspec": {
   "display_name": "R",
   "language": "R",
   "name": "ir"
  },
  "language_info": {
   "codemirror_mode": "r",
   "file_extension": ".r",
   "mimetype": "text/x-r-source",
   "name": "R",
   "pygments_lexer": "r",
   "version": "3.6.1"
  }
 },
 "nbformat": 4,
 "nbformat_minor": 5
}
