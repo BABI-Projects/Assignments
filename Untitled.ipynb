{
 "cells": [
  {
   "cell_type": "markdown",
   "id": "17bbd9dc",
   "metadata": {},
   "source": [
    "# AllGreensFranchise\n"
   ]
  },
  {
   "cell_type": "code",
   "execution_count": null,
   "id": "38bb078d",
   "metadata": {},
   "outputs": [],
   "source": [
    "library(xlsx)\n",
    "data <- read.xlsx(\"Data/Dataset_All Greens Franchise.xls\",1)\n",
    "str(data)"
   ]
  },
  {
   "cell_type": "markdown",
   "id": "d5085d38",
   "metadata": {},
   "source": [
    "# Data Exploration"
   ]
  },
  {
   "cell_type": "code",
   "execution_count": null,
   "id": "37b6c0c4",
   "metadata": {},
   "outputs": [],
   "source": [
    "library(GGally)\n",
    "ggpairs(data)"
   ]
  },
  {
   "cell_type": "markdown",
   "id": "1e3fbe0e",
   "metadata": {},
   "source": [
    "# Regression Analysis\n"
   ]
  },
  {
   "cell_type": "code",
   "execution_count": null,
   "id": "f58baa04",
   "metadata": {},
   "outputs": [],
   "source": [
    "fit1 <- lm(X1 ~ ., data= data)\n",
    "summary(fit1)"
   ]
  },
  {
   "cell_type": "markdown",
   "id": "d5d1f0d5",
   "metadata": {},
   "source": [
    "All the variables are significant and the Multiple R Squared/Adjusted R-Squared is > 99%. But, we have to check if there is a multicollinearity problem in the model.\n",
    "\n"
   ]
  },
  {
   "cell_type": "code",
   "execution_count": null,
   "id": "1d9fa2e3",
   "metadata": {},
   "outputs": [],
   "source": [
    "library(car)\n"
   ]
  },
  {
   "cell_type": "code",
   "execution_count": 8,
   "id": "a9e4abc0",
   "metadata": {},
   "outputs": [
    {
     "name": "stderr",
     "output_type": "stream",
     "text": [
      "Removing package from 'C:/Users/agni1/Anaconda3/envs/BABI_R/Lib/R/library'\n",
      "(as 'lib' is unspecified)\n"
     ]
    }
   ],
   "source": [
    "remove.packages('Rcpp')"
   ]
  },
  {
   "cell_type": "code",
   "execution_count": 11,
   "id": "e3168942",
   "metadata": {},
   "outputs": [
    {
     "ename": "ERROR",
     "evalue": "Error in vif(fit1): could not find function \"vif\"\n",
     "output_type": "error",
     "traceback": [
      "Error in vif(fit1): could not find function \"vif\"\nTraceback:\n"
     ]
    }
   ],
   "source": [
    "vif(fit1)\n"
   ]
  },
  {
   "cell_type": "code",
   "execution_count": 12,
   "id": "890e31cd",
   "metadata": {},
   "outputs": [
    {
     "data": {
      "text/plain": [
       "\n",
       "Call:\n",
       "lm(formula = X1 ~ . - X3, data = data)\n",
       "\n",
       "Residuals:\n",
       "    Min      1Q  Median      3Q     Max \n",
       "-30.422 -12.858  -6.477  16.160  45.255 \n",
       "\n",
       "Coefficients:\n",
       "            Estimate Std. Error t value Pr(>|t|)    \n",
       "(Intercept)  -39.460     34.411  -1.147   0.2638    \n",
       "X2            20.444      3.815   5.359 2.22e-05 ***\n",
       "X4            16.966      2.093   8.107 4.73e-08 ***\n",
       "X5            15.673      1.910   8.206 3.86e-08 ***\n",
       "X6            -4.043      1.937  -2.088   0.0486 *  \n",
       "---\n",
       "Signif. codes:  0 '***' 0.001 '**' 0.01 '*' 0.05 '.' 0.1 ' ' 1\n",
       "\n",
       "Residual standard error: 20.68 on 22 degrees of freedom\n",
       "Multiple R-squared:  0.9902,\tAdjusted R-squared:  0.9884 \n",
       "F-statistic: 555.4 on 4 and 22 DF,  p-value: < 2.2e-16\n"
      ]
     },
     "metadata": {},
     "output_type": "display_data"
    }
   ],
   "source": [
    "fit2 <- lm(X1 ~ .-X3, data= data)\n",
    "summary(fit2)"
   ]
  },
  {
   "cell_type": "code",
   "execution_count": 13,
   "id": "3724c044",
   "metadata": {},
   "outputs": [
    {
     "ename": "ERROR",
     "evalue": "Error in vif(fit2): could not find function \"vif\"\n",
     "output_type": "error",
     "traceback": [
      "Error in vif(fit2): could not find function \"vif\"\nTraceback:\n"
     ]
    }
   ],
   "source": [
    "vif(fit2)\n"
   ]
  },
  {
   "cell_type": "code",
   "execution_count": 14,
   "id": "f7a7f5b1",
   "metadata": {},
   "outputs": [],
   "source": [
    "prin_comp <- prcomp(data[,-1], scale. = T)\n"
   ]
  },
  {
   "cell_type": "code",
   "execution_count": 15,
   "id": "9f793359",
   "metadata": {},
   "outputs": [
    {
     "data": {
      "image/png": "[encoded data removed]",
      "text/plain": [
       "plot without title"
      ]
     },
     "metadata": {},
     "output_type": "display_data"
    }
   ],
   "source": [
    "biplot(prin_comp, scale=0)\n"
   ]
  },
  {
   "cell_type": "code",
   "execution_count": 16,
   "id": "2f4f7664",
   "metadata": {},
   "outputs": [
    {
     "data": {
      "text/html": [
       "<table>\n",
       "<thead><tr><th></th><th scope=col>PC1</th><th scope=col>PC2</th><th scope=col>PC3</th><th scope=col>PC4</th><th scope=col>PC5</th></tr></thead>\n",
       "<tbody>\n",
       "\t<tr><th scope=row>X2</th><td> 0.4346055 </td><td> 0.72351531</td><td>-0.2173219 </td><td> 0.4731253 </td><td>-0.1287140 </td></tr>\n",
       "\t<tr><th scope=row>X3</th><td> 0.4587593 </td><td>-0.07708152</td><td>-0.4766292 </td><td>-0.3421379 </td><td> 0.6628458 </td></tr>\n",
       "\t<tr><th scope=row>X4</th><td> 0.4451881 </td><td>-0.58485406</td><td>-0.3612434 </td><td> 0.1704407 </td><td>-0.5479110 </td></tr>\n",
       "\t<tr><th scope=row>X5</th><td> 0.4529839 </td><td> 0.22908597</td><td> 0.3987150 </td><td>-0.6786263 </td><td>-0.3504538 </td></tr>\n",
       "\t<tr><th scope=row>X6</th><td>-0.4441522 </td><td> 0.27577053</td><td>-0.6603979 </td><td>-0.4117164 </td><td>-0.3479134 </td></tr>\n",
       "</tbody>\n",
       "</table>\n"
      ],
      "text/latex": [
       "\\begin{tabular}{r|lllll}\n",
       "  & PC1 & PC2 & PC3 & PC4 & PC5\\\\\n",
       "\\hline\n",
       "\tX2 &  0.4346055  &  0.72351531 & -0.2173219  &  0.4731253  & -0.1287140 \\\\\n",
       "\tX3 &  0.4587593  & -0.07708152 & -0.4766292  & -0.3421379  &  0.6628458 \\\\\n",
       "\tX4 &  0.4451881  & -0.58485406 & -0.3612434  &  0.1704407  & -0.5479110 \\\\\n",
       "\tX5 &  0.4529839  &  0.22908597 &  0.3987150  & -0.6786263  & -0.3504538 \\\\\n",
       "\tX6 & -0.4441522  &  0.27577053 & -0.6603979  & -0.4117164  & -0.3479134 \\\\\n",
       "\\end{tabular}\n"
      ],
      "text/markdown": [
       "\n",
       "| <!--/--> | PC1 | PC2 | PC3 | PC4 | PC5 |\n",
       "|---|---|---|---|---|---|\n",
       "| X2 |  0.4346055  |  0.72351531 | -0.2173219  |  0.4731253  | -0.1287140  |\n",
       "| X3 |  0.4587593  | -0.07708152 | -0.4766292  | -0.3421379  |  0.6628458  |\n",
       "| X4 |  0.4451881  | -0.58485406 | -0.3612434  |  0.1704407  | -0.5479110  |\n",
       "| X5 |  0.4529839  |  0.22908597 |  0.3987150  | -0.6786263  | -0.3504538  |\n",
       "| X6 | -0.4441522  |  0.27577053 | -0.6603979  | -0.4117164  | -0.3479134  |\n",
       "\n"
      ],
      "text/plain": [
       "   PC1        PC2         PC3        PC4        PC5       \n",
       "X2  0.4346055  0.72351531 -0.2173219  0.4731253 -0.1287140\n",
       "X3  0.4587593 -0.07708152 -0.4766292 -0.3421379  0.6628458\n",
       "X4  0.4451881 -0.58485406 -0.3612434  0.1704407 -0.5479110\n",
       "X5  0.4529839  0.22908597  0.3987150 -0.6786263 -0.3504538\n",
       "X6 -0.4441522  0.27577053 -0.6603979 -0.4117164 -0.3479134"
      ]
     },
     "metadata": {},
     "output_type": "display_data"
    }
   ],
   "source": [
    "prin_comp$rotation\n"
   ]
  },
  {
   "cell_type": "code",
   "execution_count": 17,
   "id": "d02613e9",
   "metadata": {},
   "outputs": [
    {
     "data": {
      "text/html": [
       "<ol class=list-inline>\n",
       "\t<li>0.862667012548042</li>\n",
       "\t<li>0.055696185663054</li>\n",
       "\t<li>0.0460258274280544</li>\n",
       "\t<li>0.0247902473368406</li>\n",
       "\t<li>0.0108207270240093</li>\n",
       "</ol>\n"
      ],
      "text/latex": [
       "\\begin{enumerate*}\n",
       "\\item 0.862667012548042\n",
       "\\item 0.055696185663054\n",
       "\\item 0.0460258274280544\n",
       "\\item 0.0247902473368406\n",
       "\\item 0.0108207270240093\n",
       "\\end{enumerate*}\n"
      ],
      "text/markdown": [
       "1. 0.862667012548042\n",
       "2. 0.055696185663054\n",
       "3. 0.0460258274280544\n",
       "4. 0.0247902473368406\n",
       "5. 0.0108207270240093\n",
       "\n",
       "\n"
      ],
      "text/plain": [
       "[1] 0.86266701 0.05569619 0.04602583 0.02479025 0.01082073"
      ]
     },
     "metadata": {},
     "output_type": "display_data"
    }
   ],
   "source": [
    "# std. deviation\n",
    "std_dev <- prin_comp$sdev\n",
    "#variance\n",
    "pr_var <- std_dev^2\n",
    "#proportion of variance explained\n",
    "prop_varex <- pr_var/sum(pr_var)\n",
    "prop_varex"
   ]
  },
  {
   "cell_type": "code",
   "execution_count": 18,
   "id": "fbc69c06",
   "metadata": {},
   "outputs": [
    {
     "data": {
      "image/png": "[encoded data removed]",
      "text/plain": [
       "plot without title"
      ]
     },
     "metadata": {},
     "output_type": "display_data"
    }
   ],
   "source": [
    "#scree plot\n",
    "plot(prop_varex, xlab = \"Principal Component\",\n",
    "             ylab = \"Proportion of Variance Explained\",\n",
    "             type = \"b\")"
   ]
  },
  {
   "cell_type": "code",
   "execution_count": 19,
   "id": "4c373eae",
   "metadata": {},
   "outputs": [
    {
     "data": {
      "text/plain": [
       "\n",
       "Call:\n",
       "lm(formula = X1 ~ ., data = data1)\n",
       "\n",
       "Residuals:\n",
       "    Min      1Q  Median      3Q     Max \n",
       "-32.168 -15.059  -3.809  11.915  47.944 \n",
       "\n",
       "Coefficients:\n",
       "            Estimate Std. Error t value Pr(>|t|)    \n",
       "(Intercept)  286.574      3.774   75.94   <2e-16 ***\n",
       "PC1           92.013      1.852   49.69   <2e-16 ***\n",
       "---\n",
       "Signif. codes:  0 '***' 0.001 '**' 0.01 '*' 0.05 '.' 0.1 ' ' 1\n",
       "\n",
       "Residual standard error: 19.61 on 25 degrees of freedom\n",
       "Multiple R-squared:   0.99,\tAdjusted R-squared:  0.9896 \n",
       "F-statistic:  2469 on 1 and 25 DF,  p-value: < 2.2e-16\n"
      ]
     },
     "metadata": {},
     "output_type": "display_data"
    }
   ],
   "source": [
    "data1 <- data.frame(data[,1], prin_comp$x[,1])\n",
    "colnames(data1) <- c(\"X1\", \"PC1\")\n",
    "fit3 <- lm(X1 ~ ., data=data1)\n",
    "summary(fit3)"
   ]
  },
  {
   "cell_type": "code",
   "execution_count": null,
   "id": "92993cdb",
   "metadata": {},
   "outputs": [],
   "source": []
  }
 ],
 "metadata": {
  "kernelspec": {
   "display_name": "R",
   "language": "R",
   "name": "ir"
  },
  "language_info": {
   "codemirror_mode": "r",
   "file_extension": ".r",
   "mimetype": "text/x-r-source",
   "name": "R",
   "pygments_lexer": "r",
   "version": "3.6.1"
  }
 },
 "nbformat": 4,
 "nbformat_minor": 5
}
